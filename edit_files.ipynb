{
 "cells": [
  {
   "cell_type": "code",
   "execution_count": 47,
   "metadata": {},
   "outputs": [],
   "source": [
    "import pandas as pd\n",
    "import numpy as np\n",
    "\n",
    "ans = pd.read_csv(\"Data/Answer.csv\")\n",
    "question = pd.read_csv(\"Data/Question.csv\")\n"
   ]
  },
  {
   "cell_type": "code",
   "execution_count": 47,
   "metadata": {},
   "outputs": [],
   "source": [
    "qcolumn = []\n",
    "for i in ans[\"QuestionID\"]:\n",
    "    q = question[question[\"questionid\"] == i].iloc[0, 0]\n",
    "    qcolumn.append(q)\n"
   ]
  },
  {
   "cell_type": "code",
   "execution_count": 53,
   "metadata": {},
   "outputs": [],
   "source": [
    "new_file = pd.concat([pd.DataFrame({'Question': qcolumn}), ans], axis=1)\n",
    "new_file = new_file.drop([\"QuestionID\"], axis=1)\n"
   ]
  },
  {
   "cell_type": "code",
   "execution_count": 60,
   "metadata": {},
   "outputs": [],
   "source": [
    "qa16 = new_file[new_file[\"SurveyID\"] == 2016].drop([\"SurveyID\"], axis=1)\n",
    "qa17 = new_file[new_file[\"SurveyID\"] == 2017].drop([\"SurveyID\"], axis=1)\n",
    "qa18 = new_file[new_file[\"SurveyID\"] == 2018].drop([\"SurveyID\"], axis=1)\n",
    "qa19 = new_file[new_file[\"SurveyID\"] == 2019].drop([\"SurveyID\"], axis=1)\n",
    "\n",
    "qa16.to_csv(\"Data/QA_2016.csv\", index=False)\n",
    "qa17.to_csv(\"Data/QA_2017.csv\", index=False)\n",
    "qa18.to_csv(\"Data/QA_2018.csv\", index=False)\n",
    "qa19.to_csv(\"Data/QA_2019.csv\", index=False)\n"
   ]
  },
  {
   "cell_type": "code",
   "execution_count": null,
   "metadata": {},
   "outputs": [],
   "source": []
  }
 ],
 "metadata": {
  "kernelspec": {
   "display_name": "Python 3",
   "language": "python",
   "name": "python3"
  },
  "language_info": {
   "codemirror_mode": {
    "name": "ipython",
    "version": 3
   },
   "file_extension": ".py",
   "mimetype": "text/x-python",
   "name": "python",
   "nbconvert_exporter": "python",
   "pygments_lexer": "ipython3",
   "version": "3.7.3"
  }
 },
 "nbformat": 4,
 "nbformat_minor": 2
}
