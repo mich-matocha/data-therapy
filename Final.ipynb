{
  "nbformat": 4,
  "nbformat_minor": 0,
  "metadata": {
    "kernelspec": {
      "display_name": "Python 3",
      "language": "python",
      "name": "python3"
    },
    "language_info": {
      "codemirror_mode": {
        "name": "ipython",
        "version": 3
      },
      "file_extension": ".py",
      "mimetype": "text/x-python",
      "name": "python",
      "nbconvert_exporter": "python",
      "pygments_lexer": "ipython3",
      "version": "3.8.3"
    },
    "colab": {
      "name": "Final.ipynb",
      "provenance": [],
      "collapsed_sections": [
        "hTluUXzt11Em"
      ]
    }
  },
  "cells": [
    {
      "cell_type": "markdown",
      "metadata": {
        "id": "71fY3cYV7j_h"
      },
      "source": [
        "# Data Therapy"
      ]
    },
    {
      "cell_type": "markdown",
      "metadata": {
        "id": "jBFhltat7UeX"
      },
      "source": [
        "## Overview & Motivation: \n",
        "The purpose of this project was to investigate the changes in mental health in those who work in the tech industry, and the services/support provided by employers over the time period from (2014, 2016-2019). This might be useful to look at for those who work in the tech industry as a way to mark improvements/decline in the industry - to see if more support needs to be added, or if the industry on average is doing well in this area.\n",
        "\n",
        "We also looked at the change and differences in different demographics represented in these survey responses to see if different people are being supported equally or not.\n",
        "\n",
        "Employers can benefit from knowing what they can improve in their companies. Employees can benefit from the changes employers make to improve mental health. If a specific demographic is disproportionately affected, the demographic would benefit from improvements that are targeted towards them.\n"
      ]
    },
    {
      "cell_type": "markdown",
      "metadata": {
        "id": "NlymKNZX7rqf"
      },
      "source": [
        "## Initial Questions:\n",
        "Is there a trend over the years of this survey? \n",
        "Is there a difference in mental health support for different demographics?\n",
        "Is there a certain area in which mental health support can be improved?"
      ]
    },
    {
      "cell_type": "markdown",
      "metadata": {
        "id": "jXcWO59y7uj2"
      },
      "source": [
        "## Data:\n",
        "Our dataset originated from the Open Sourcing Mental Illness [survey](https://osmihelp.org/research). This group conducted this survey for the years 2014, and 2016-2019. A pre-cleaned and preprocessed version of this data was found on [Kaggle](https://www.kaggle.com/anth7310/mental-health-in-the-tech-industry). Using this Kaggle dataset, we combined the given csvs and split them by year. Inside the yearly CSVs, we removed responses from people who are self employed and/or not employed in the US. We also converted categorical data into numerical values."
      ]
    },
    {
      "cell_type": "markdown",
      "metadata": {
        "id": "5NCrtovg7xAE"
      },
      "source": [
        "## Exploratory Data Analysis:\n",
        "We looked at the reports on the OSMI website (mainly just percentages for each answer choice -> [2019 Report](https://osmi.typeform.com/report/E1aoi6/8lZTgmG67MsOG7aH)) as well as going through by hand and looking at different responses. \n",
        "\n",
        "The dataset included a good amount of free response questions, and we thought it was worth trying word frequency analysis - but there ended up not being significant enough differences between years or questions to give us any further interesting results.\n",
        "\n",
        "We were going to use linear or logistic regression to see if there were patterns between answers to certain questions, but the results were not significant enough to include.\n"
      ]
    },
    {
      "cell_type": "markdown",
      "metadata": {
        "id": "pRcPQHCg75bK"
      },
      "source": [
        "## Final Analysis:\n",
        "Overall, the industry seems to be improving. Most of the graphs show an increase in positive responses. Most of the line graphs that showed the average rating per year had a positive trend. Most of the pie charts showed an increasing percentage of positive responses. Some minority demographics need more attention in certain areas. The tech industry could do more to help these people.\n",
        "\n",
        "Overall, people in the tech industry had more or equally positive responses than those outside of the tech industry. This was a trend across years and different questions."
      ]
    },
    {
      "cell_type": "markdown",
      "metadata": {
        "id": "NSm3fDys11Ei"
      },
      "source": [
        "# Hello\n",
        "\n",
        "### Helper Functions\n",
        "\n",
        "I did a good bit of consolidation into categories here:\n",
        "\n",
        "* **Mood Disorder** includes Depression and Seasonal Affective Disorder  \n",
        "* **Pervasive Developmental Disorder** includes Autism and Aspergers  \n",
        "* **Dissociative Disorder** includes Depersonalization Disorder \n",
        "* **Personality Disorder** includes Schizotypal Personality Disorder"
      ]
    },
    {
      "cell_type": "code",
      "metadata": {
        "id": "NYq2Wa_E11Ej"
      },
      "source": [
        "import re\n",
        "import pandas as pd\n",
        "\n",
        "def cleanDisorders(disorder):\n",
        "    disorder = re.sub(\"[\\(\\[].*?[\\)\\]]\", \"\", str(disorder))\n",
        "    disorder = disorder.rstrip()\n",
        "    if disorder == 'Attention Deficit Hyperactivity Disorder':\n",
        "        return 'ADHD'\n",
        "    elif disorder == 'Post-traumatic Stress Disorder':\n",
        "        return \"PTSD\"\n",
        "    elif disorder == 'Obsessive-Compulsive Disorder':\n",
        "        return \"OCD\"\n",
        "    elif disorder == 'Anxiety Disorder':\n",
        "        return \"Anxiety\"\n",
        "    elif disorder == 'Autism' or disorder.lower() == 'autism spectrum disorder' or disorder == 'Asperges' or disorder == 'PDD-NOS':\n",
        "        return 'Pervasive Developmental Disorder'\n",
        "    elif disorder == 'Depression' or disorder == 'Seasonal Affective Disorder':\n",
        "        return \"Mood Disorder\"\n",
        "    elif disorder == 'Addictive Disorder' or disorder == 'Substance Use Disorder':\n",
        "        return \"Addiction or Substance Use\"\n",
        "    elif disorder.lower() == 'depersonalization disorder':\n",
        "        return \"Dissociative Disorder\"\n",
        "    elif disorder == 'Schizotypal Personality Disorder':\n",
        "        return \"Personality Disorder\"\n",
        "    else:\n",
        "        return disorder\n",
        "    \n",
        "def loadData(filename):\n",
        "    df = pd.read_csv(filename)\n",
        "    print('\\nShape:')\n",
        "    print(df.shape)\n",
        "    return df\n",
        "\n",
        "def cleanAndGetCounts(df, qID, cleanFn):\n",
        "    df[qID] = df[qID].apply(cleanFn)\n",
        "    valCounts = df[qID].value_counts()\n",
        "    valCounts = valCounts.iloc[1:]\n",
        "    print(valCounts)\n",
        "    return valCounts"
      ],
      "execution_count": null,
      "outputs": []
    },
    {
      "cell_type": "markdown",
      "metadata": {
        "id": "Qmaop3uV11Ek"
      },
      "source": [
        "### 2016 Diagnosed Mental Health Conditions"
      ]
    },
    {
      "cell_type": "code",
      "metadata": {
        "id": "82Ulfh-Z11Ek",
        "outputId": "b6d89b65-ee78-4470-8b79-e63581e50908"
      },
      "source": [
        "df2016 = loadData('data/QA_2016.T.csv')\n",
        "valCounts = cleanAndGetCounts(df2016, '115', cleanDisorders)"
      ],
      "execution_count": null,
      "outputs": [
        {
          "output_type": "stream",
          "text": [
            "\n",
            "Shape:\n",
            "(4760, 61)\n",
            "Mood Disorder                                                                                               775\n",
            "Anxiety                                                                                                     648\n",
            "ADHD                                                                                                        224\n",
            "Addiction or Substance Use                                                                                  163\n",
            "PTSD                                                                                                        141\n",
            "Stress Response Syndromes                                                                                   104\n",
            "Personality Disorder                                                                                         91\n",
            "OCD                                                                                                          68\n",
            "Eating Disorder                                                                                              43\n",
            "Dissociative Disorder                                                                                        36\n",
            "Pervasive Developmental Disorder                                                                             22\n",
            "Psychotic Disorder                                                                                            9\n",
            "Combination of physical impairment  with a possibly mental one                                                5\n",
            "Intimate Disorder                                                                                             4\n",
            "Gender Dysphoria                                                                                              4\n",
            "Transgender                                                                                                   2\n",
            "Sexual addiction                                                                                              1\n",
            "ADD                                                                                                           1\n",
            "Traumatic Brain Injury                                                                                        1\n",
            "Sleeping Disorder                                                                                             1\n",
            "I haven't been formally diagnosed, so I felt uncomfortable answering, but Social Anxiety and Depression.      1\n",
            "Burn out                                                                                                      1\n",
            "Name: 115, dtype: int64\n"
          ],
          "name": "stdout"
        }
      ]
    },
    {
      "cell_type": "code",
      "metadata": {
        "id": "aotHNlh711Em",
        "outputId": "a2f9e271-8cd6-47a5-f3cb-f3ada68f34e7"
      },
      "source": [
        "valCounts.sort_values(ascending=False).head(12).plot(kind='bar')"
      ],
      "execution_count": null,
      "outputs": [
        {
          "output_type": "execute_result",
          "data": {
            "text/plain": [
              "<matplotlib.axes._subplots.AxesSubplot at 0x7fd9de8d9310>"
            ]
          },
          "metadata": {
            "tags": []
          },
          "execution_count": 4
        },
        {
          "output_type": "display_data",
          "data": {
            "image/png": "[encoded data removed]",
            "text/plain": [
              "<Figure size 432x288 with 1 Axes>"
            ]
          },
          "metadata": {
            "tags": [],
            "needs_background": "light"
          }
        }
      ]
    },
    {
      "cell_type": "markdown",
      "metadata": {
        "id": "hTluUXzt11Em"
      },
      "source": [
        "### 2016 Undiagnosed Mental Health Conditions"
      ]
    },
    {
      "cell_type": "code",
      "metadata": {
        "id": "PR8PR1-o11Em",
        "outputId": "e370345a-d03c-465c-802a-3433d31e3712"
      },
      "source": [
        "df16 = loadData('data/QA_2016.T.csv')\n",
        "valCts = cleanAndGetCounts(df16, '116', cleanDisorders)"
      ],
      "execution_count": null,
      "outputs": [
        {
          "output_type": "stream",
          "text": [
            "\n",
            "Shape:\n",
            "(4760, 61)\n",
            "Mood Disorder                       442\n",
            "Anxiety                             389\n",
            "ADHD                                132\n",
            "Stress Response Syndromes           100\n",
            "Personality Disorder                 90\n",
            "Addiction or Substance Use           82\n",
            "PTSD                                 56\n",
            "OCD                                  52\n",
            "Dissociative Disorder                24\n",
            "Eating Disorder                      19\n",
            "Psychotic Disorder                   18\n",
            "Gender Identity Disorder              4\n",
            "Burnout                               3\n",
            "Asperger Syndrome                     3\n",
            "Depersonalisation                     2\n",
            "post-partum / anxiety                 2\n",
            "Pervasive Developmental Disorder      1\n",
            "Suicidal Ideation                     1\n",
            "Tinnitus                              1\n",
            "Asperger's                            1\n",
            "We're all hurt, right?!               1\n",
            "Name: 116, dtype: int64\n"
          ],
          "name": "stdout"
        }
      ]
    },
    {
      "cell_type": "code",
      "metadata": {
        "id": "cPVaZi_c11Em",
        "outputId": "009ef3f3-c135-4a73-85d0-c17214dcc1d1"
      },
      "source": [
        "valCts.sort_values(ascending=False).head(11).plot(kind='bar')"
      ],
      "execution_count": null,
      "outputs": [
        {
          "output_type": "execute_result",
          "data": {
            "text/plain": [
              "<matplotlib.axes._subplots.AxesSubplot at 0x7fd9dea24810>"
            ]
          },
          "metadata": {
            "tags": []
          },
          "execution_count": 6
        },
        {
          "output_type": "display_data",
          "data": {
            "image/png": "[encoded data removed]",
            "text/plain": [
              "<Figure size 432x288 with 1 Axes>"
            ]
          },
          "metadata": {
            "tags": [],
            "needs_background": "light"
          }
        }
      ]
    },
    {
      "cell_type": "markdown",
      "metadata": {
        "id": "I70zjeqM11Em"
      },
      "source": [
        "# Next Section"
      ]
    },
    {
      "cell_type": "code",
      "metadata": {
        "id": "UA9ZaFMJ11Em"
      },
      "source": [
        "import pandas as pd\n",
        "import matplotlib.pyplot as plt\n",
        "import requests\n",
        "import io\n",
        "import numpy as np\n",
        "import seaborn as sns\n",
        "import plotly.express as px\n",
        "\n",
        "def load_data(url):\n",
        "    url_content = requests.get(url).text\n",
        "\n",
        "\n",
        "\n",
        "    #with open()\n",
        "    data = pd.read_csv(url,encoding='utf-8')\n",
        "    return data\n",
        "#data.head()"
      ],
      "execution_count": null,
      "outputs": []
    },
    {
      "cell_type": "code",
      "metadata": {
        "id": "SNQHMwvM11En"
      },
      "source": [
        "def clean_data(df):\n",
        "    df = df.replace('-1',np.NaN)\n",
        "    index = 0\n",
        "    for row in df['3']:\n",
        "        if row != 'United States of America':\n",
        "            df.drop(index=index,inplace=True)\n",
        "        index += 1\n",
        "    data_index = df.index\n",
        "\n",
        "    index = 0 \n",
        "    for row in df['5']:\n",
        "        if row == 1:\n",
        "            df.drop(index=data_index[index],inplace=True)\n",
        "        index += 1\n",
        "    return df"
      ],
      "execution_count": null,
      "outputs": []
    },
    {
      "cell_type": "code",
      "metadata": {
        "id": "9yPy5tgx11En"
      },
      "source": [
        "def q_17(data):\n",
        "    comfort_sum = 0\n",
        "    comfort_count = 0\n",
        "    for row in data['19']:\n",
        "        if row == 'Yes':\n",
        "            comfort_sum += 100\n",
        "        elif row == 'Maybe':\n",
        "            comfort_sum += 50\n",
        "        elif row == 'No':\n",
        "            comfort_sum += 0\n",
        "        comfort_count  += 1\n",
        "    if comfort_count == 0:\n",
        "        avg_comfort = 0\n",
        "    else:\n",
        "        avg_comfort = comfort_sum/comfort_count\n",
        "    #print(avg_comfort)\n",
        "    comfort_coworkers = avg_comfort\n",
        "    return comfort_coworkers\n",
        "def q_17_size(data):\n",
        "    comfort_sum = 0\n",
        "    comfort_count = 0\n",
        "    for row in data:\n",
        "        if row == 'Yes':\n",
        "            comfort_sum += 100\n",
        "        elif row == 'Maybe':\n",
        "            comfort_sum += 50\n",
        "        elif row == 'No':\n",
        "            comfort_sum += 0\n",
        "        comfort_count  += 1\n",
        "    if comfort_count == 0:\n",
        "        avg_comfort = 0\n",
        "    else:\n",
        "        avg_comfort = comfort_sum/comfort_count\n",
        "    #print(avg_comfort)\n",
        "    comfort_coworkers = avg_comfort\n",
        "    return comfort_coworkers\n",
        "def pie_17(data):\n",
        "    yes = 0\n",
        "    maybe = 0\n",
        "    no = 0\n",
        "    for row in data['19']:\n",
        "        if row == 'Yes':\n",
        "            yes += 1\n",
        "        elif row == 'Maybe':\n",
        "            maybe += 1\n",
        "        elif row == 'No':\n",
        "            no += 1\n",
        "    return [yes,maybe,no]"
      ],
      "execution_count": null,
      "outputs": []
    },
    {
      "cell_type": "code",
      "metadata": {
        "id": "E2QvPWQ611En"
      },
      "source": [
        "def q_16(data):\n",
        "    comfort_sum = 0\n",
        "    comfort_count = 0\n",
        "    for row in data['16']:\n",
        "        if row == 'Yes':\n",
        "            comfort_sum += 100\n",
        "        elif row == 'I don\\'t know':\n",
        "            comfort_sum += 50\n",
        "        elif row == 'No':\n",
        "            comfort_sum += 0\n",
        "        comfort_count  += 1\n",
        "    if comfort_count == 0:\n",
        "        avg_comfort = 0\n",
        "    else:\n",
        "        avg_comfort = comfort_sum/comfort_count\n",
        "    \n",
        "    comfort_coworkers = avg_comfort\n",
        "    return comfort_coworkers\n",
        "def pie_16(data):\n",
        "    yes = 0\n",
        "    maybe = 0\n",
        "    no = 0\n",
        "    for row in data['16']:\n",
        "        if row == 'Yes':\n",
        "            yes += 1\n",
        "        elif row == 'I don\\'t know':\n",
        "            maybe += 1\n",
        "        elif row == 'No':\n",
        "            no += 1\n",
        "    return [yes,maybe,no]"
      ],
      "execution_count": null,
      "outputs": []
    },
    {
      "cell_type": "code",
      "metadata": {
        "id": "nezT7eQI11En"
      },
      "source": [
        "def q_18(data):\n",
        "    comfort_sum = 0\n",
        "    comfort_count = 0\n",
        "    for row in data['18']:\n",
        "        if row == 'Yes':\n",
        "            comfort_sum += 100\n",
        "        elif row == 'Maybe':\n",
        "            comfort_sum += 50\n",
        "        elif row == 'No':\n",
        "            comfort_sum += 0\n",
        "        comfort_count  += 1\n",
        "    if comfort_count == 0:\n",
        "        avg_comfort = 0\n",
        "    else:\n",
        "        avg_comfort = comfort_sum/comfort_count\n",
        "    \n",
        "    comfort_coworkers = avg_comfort\n",
        "    return comfort_coworkers\n",
        "def pie_18(data):\n",
        "    yes = 0\n",
        "    maybe = 0\n",
        "    no = 0\n",
        "    for row in data['18']:\n",
        "        if row == 'Yes':\n",
        "            yes += 1\n",
        "        elif row == 'Maybe':\n",
        "            maybe += 1\n",
        "        elif row == 'No':\n",
        "            no += 1\n",
        "    return [yes,maybe,no]"
      ],
      "execution_count": null,
      "outputs": []
    },
    {
      "cell_type": "code",
      "metadata": {
        "id": "M-s7S0Mv11En"
      },
      "source": [
        "def q_56(data):\n",
        "    employer_mental_phys_sum = 0\n",
        "    employer_ment_phys_count = 0\n",
        "    for row in data['69']:\n",
        "        if row == 'Mental health':\n",
        "            employer_mental_phys_sum += 50\n",
        "        elif row == 'Physical health':\n",
        "            employer_mental_phys_sum += 0\n",
        "        elif row == 'Same level of comfort for each':\n",
        "            employer_mental_phys_sum += 100\n",
        "        employer_ment_phys_count += 1\n",
        "    if employer_ment_phys_count == 0:\n",
        "        avg_employer_ment_phys = 0\n",
        "    else:\n",
        "        avg_employer_ment_phys = employer_mental_phys_sum / employer_ment_phys_count\n",
        "    return avg_employer_ment_phys\n",
        "def pie_56(data):\n",
        "    mental = 0\n",
        "    physical = 0\n",
        "    same = 0\n",
        "    for row in data['69']:\n",
        "        if row == 'Mental health':\n",
        "            mental += 1\n",
        "        elif row == 'Physical health':\n",
        "            physical += 1\n",
        "        elif row == 'Same level of comfort for each':\n",
        "            same += 1\n",
        "    return [mental,physical,same]"
      ],
      "execution_count": null,
      "outputs": []
    },
    {
      "cell_type": "code",
      "metadata": {
        "id": "xt5aSjw711En"
      },
      "source": [
        "def q_72(data):\n",
        "    sum_ = 0\n",
        "    count = 0\n",
        "    for row in data['85']:\n",
        "        if row == 1:\n",
        "            sum_ += 0\n",
        "        elif row == 2:\n",
        "            sum_ += 25\n",
        "        elif row == 3:\n",
        "            sum_ += 50\n",
        "        elif row == 4:\n",
        "            sum_ += 75\n",
        "        elif row == 5:\n",
        "            sum_ += 100\n",
        "        count += 1\n",
        "    \n",
        "    if count == 0:\n",
        "        avg = 0\n",
        "    else:\n",
        "        avg = sum_ / count\n",
        "    return avg\n",
        "def pie_72(data):\n",
        "    one = 0\n",
        "    two = 0\n",
        "    three = 0\n",
        "    four = 0\n",
        "    five = 0\n",
        "    for row in data['85']:\n",
        "        if row == 1:\n",
        "            one += 1\n",
        "        elif row == 2:\n",
        "            two += 1\n",
        "        elif row == 3:\n",
        "            three += 1\n",
        "        elif row == 4:\n",
        "            four += 1\n",
        "        elif row == 5:\n",
        "            five += 1\n",
        "    return [one,two,three,four,five]"
      ],
      "execution_count": null,
      "outputs": []
    },
    {
      "cell_type": "code",
      "metadata": {
        "id": "xju9-NJp11En"
      },
      "source": [
        "url_16 = \"https://raw.githubusercontent.com/mich-matocha/data-therapy/main/data/QA_2016.T.csv\"\n",
        "url_17 = \"https://raw.githubusercontent.com/mich-matocha/data-therapy/main/data/QA_2017.T.csv\"\n",
        "url_18 = \"https://raw.githubusercontent.com/mich-matocha/data-therapy/main/data/QA_2018.T.csv\"\n",
        "url_19 = \"https://raw.githubusercontent.com/mich-matocha/data-therapy/main/data/QA_2019.T.csv\"\n",
        "\n",
        "data_16 = load_data(url_16)\n",
        "data_17 = load_data(url_17)\n",
        "data_18 = load_data(url_18)\n",
        "data_19 = load_data(url_19)\n",
        "\n",
        "data_16 = clean_data(data_16)\n",
        "data_17 = clean_data(data_17)\n",
        "data_18 = clean_data(data_18)\n",
        "data_19 = clean_data(data_19)"
      ],
      "execution_count": null,
      "outputs": []
    },
    {
      "cell_type": "code",
      "metadata": {
        "id": "XBygL5Nk11En"
      },
      "source": [
        "def split_tech_non(df):\n",
        "    # Tech, Non-Tech\n",
        "    return df.loc[df['9'] == 1].copy(), df.loc[df['9'] == 0].copy()\n",
        "\n",
        "\n",
        "data_16_t, data_16_n = split_tech_non(data_16)\n",
        "data_17_t, data_17_n = split_tech_non(data_17)\n",
        "data_18_t, data_18_n = split_tech_non(data_18)\n",
        "data_19_t, data_19_n = split_tech_non(data_19)"
      ],
      "execution_count": null,
      "outputs": []
    },
    {
      "cell_type": "code",
      "metadata": {
        "id": "31Cv693w11En"
      },
      "source": [
        "company_size = {\n",
        "    '1-5': '1-5',\n",
        "    '6-25': '6-25',\n",
        "    '26-100': '26-100',\n",
        "    '100-500': '100-500',\n",
        "    '500-1000': '500-1000',\n",
        "    'More than 1000': '1000+'\n",
        "}"
      ],
      "execution_count": null,
      "outputs": []
    },
    {
      "cell_type": "code",
      "metadata": {
        "id": "C1XJgqbF11En"
      },
      "source": [
        "def pie_by_size(df, _id):\n",
        "    subset = df.dropna(subset=['8', _id])\n",
        "    values = []\n",
        "    for k, v in company_size.items():\n",
        "        values.append(subset.loc[subset['8'] == k][['1', _id]].groupby(_id).count().values.flatten())\n",
        "        \n",
        "    return values"
      ],
      "execution_count": null,
      "outputs": []
    },
    {
      "cell_type": "code",
      "metadata": {
        "id": "iQXLvEqT11En"
      },
      "source": [
        "def pie_by_gender(df, _id):\n",
        "    subset = df.dropna(subset=['2', _id])\n",
        "\n",
        "    _m = subset.loc[subset['2'] == 'Male'].groupby(_id).count()['UserID'].values\n",
        "    _f = subset.loc[subset['2'] == 'Female'].groupby(_id).count()['UserID'].values\n",
        "    _q = subset[~subset['2'].str.contains('Male|Female')].groupby(_id).count()['UserID'].values\n",
        "    \n",
        "    return _m, _f, _q"
      ],
      "execution_count": null,
      "outputs": []
    },
    {
      "cell_type": "code",
      "metadata": {
        "id": "DWSkjUZq11En",
        "outputId": "a853efe5-d37b-4e23-e126-c4789dc2d548"
      },
      "source": [
        "q_17_list_nontech = []\n",
        "q_17_list_tech = []\n",
        "\n",
        "q_17_list_nontech.append(q_17(data_16_n))\n",
        "q_17_list_nontech.append(q_17(data_17_n))\n",
        "q_17_list_nontech.append(q_17(data_18_n))\n",
        "q_17_list_nontech.append(q_17(data_19_n))\n",
        "\n",
        "q_17_list_tech.append(q_17(data_16_t))\n",
        "q_17_list_tech.append(q_17(data_17_t))\n",
        "q_17_list_tech.append(q_17(data_18_t))\n",
        "q_17_list_tech.append(q_17(data_19_t))\n",
        "\n",
        "years = [2016,2017,2018,2019]\n",
        "#plt.plot(years,q_17_list)\n",
        "\n",
        "pie_17_list16_t = pie_17(data_16_t)\n",
        "pie_17_list16_n = pie_17(data_16_n)\n",
        "pie_17_list17_t = pie_17(data_17_t)\n",
        "pie_17_list17_n = pie_17(data_17_n)\n",
        "pie_17_list18_t = pie_17(data_18_t)\n",
        "pie_17_list18_n = pie_17(data_18_n)\n",
        "pie_17_list19_t = pie_17(data_19_t)\n",
        "pie_17_list19_n = pie_17(data_19_n)\n",
        "answers = ['Yes','Maybe','No']\n",
        "# referenced https://stackoverflow.com/questions/42818361/how-to-make-two-plots-side-by-side-using-python\n",
        "plt.title('Would you feel comfortable discussing a mental health issue with your direct supervisor(s)?')\n",
        "print('Would you feel comfortable discussing a mental health issue with your direct supervisor(s)? Tech vs Non Tech')\n",
        "plt.subplot(2,4,1)\n",
        "plt.pie(pie_17_list16_t,labels=answers)\n",
        "plt.title('2016')\n",
        "plt.subplot(2,4,2)\n",
        "plt.pie(pie_17_list17_t,labels=answers)\n",
        "plt.title('2017')\n",
        "plt.subplot(2,4,3)\n",
        "plt.pie(pie_17_list18_t,labels=answers)\n",
        "plt.title('2018')\n",
        "plt.subplot(2,4,4)\n",
        "plt.pie(pie_17_list19_t,labels=answers)\n",
        "plt.title('2019')\n",
        "plt.subplot(2,4,5)\n",
        "plt.pie(pie_17_list16_n,labels=answers)\n",
        "plt.title('2016')\n",
        "plt.subplot(2,4,6)\n",
        "plt.pie(pie_17_list17_n,labels=answers)\n",
        "plt.title('2017')\n",
        "plt.subplot(2,4,7)\n",
        "plt.pie(pie_17_list18_n,labels=answers)\n",
        "plt.title('2018')\n",
        "plt.subplot(2,4,8)\n",
        "plt.pie(pie_17_list19_n,labels=answers)\n",
        "plt.title('2019')\n",
        "plt.tight_layout()"
      ],
      "execution_count": null,
      "outputs": [
        {
          "output_type": "stream",
          "text": [
            "Would you feel comfortable discussing a mental health issue with your direct supervisor(s)? Tech vs Non Tech\n"
          ],
          "name": "stdout"
        },
        {
          "output_type": "display_data",
          "data": {
            "image/png": "[encoded data removed]",
            "text/plain": [
              "<Figure size 432x288 with 8 Axes>"
            ]
          },
          "metadata": {
            "tags": []
          }
        }
      ]
    },
    {
      "cell_type": "code",
      "metadata": {
        "id": "RRj2CxYX11Eo",
        "outputId": "0ad2e2ea-88dc-40bd-f507-b3b9a9dc0fa5"
      },
      "source": [
        "pie_16_19 = pie_by_size(data_16_t,'19')\n",
        "pie_17_19 = pie_by_size(data_17_t,'19')\n",
        "pie_18_19 = pie_by_size(data_18_t,'19')\n",
        "pie_19_19 = pie_by_size(data_19_t,'19')\n",
        "\n",
        "answers = ['Yes','Maybe','No']\n",
        "plt.title('Would you feel comfortable discussing a mental health issue with your direct supervisor(s)?')\n",
        "print('Would you feel comfortable discussing a mental health issue with your direct supervisor(s)? (by number of employees in the company)')\n",
        "print('Row 1: 2016')\n",
        "plt.subplot(4,6,1)\n",
        "plt.pie(pie_16_19[0],labels=answers)\n",
        "plt.title('1-5')\n",
        "plt.subplot(4,6,2)\n",
        "plt.pie(pie_16_19[1],labels=answers)\n",
        "plt.title('6-25')\n",
        "plt.subplot(4,6,3)\n",
        "plt.pie(pie_16_19[2],labels=answers)\n",
        "plt.title('26-100')\n",
        "plt.subplot(4,6,4)\n",
        "plt.pie(pie_16_19[3],labels=answers)\n",
        "plt.title('100-500')\n",
        "plt.subplot(4,6,5)\n",
        "plt.pie(pie_16_19[4],labels=answers)\n",
        "plt.title('500-1000')\n",
        "plt.subplot(4,6,6)\n",
        "plt.pie(pie_16_19[5],labels=answers)\n",
        "plt.title('1000+')\n",
        "\n",
        "print('Row 2: 2017')\n",
        "plt.subplot(4,6,7)\n",
        "plt.pie(pie_17_19[0],labels=answers)\n",
        "plt.title('1-5')\n",
        "plt.subplot(4,6,8)\n",
        "plt.pie(pie_17_19[1],labels=answers)\n",
        "plt.title('6-25')\n",
        "plt.subplot(4,6,9)\n",
        "plt.pie(pie_17_19[2],labels=answers)\n",
        "plt.title('26-100')\n",
        "plt.subplot(4,6,10)\n",
        "plt.pie(pie_17_19[3],labels=answers)\n",
        "plt.title('100-500')\n",
        "plt.subplot(4,6,11)\n",
        "plt.pie(pie_17_19[4],labels=answers)\n",
        "plt.title('500-1000')\n",
        "plt.subplot(4,6,12)\n",
        "plt.pie(pie_17_19[5],labels=answers)\n",
        "plt.title('1000+')\n",
        "\n",
        "print('Row 3: 2018')\n",
        "plt.subplot(4,6,13)\n",
        "plt.pie(pie_18_19[0],labels=answers)\n",
        "plt.title('1-5')\n",
        "plt.subplot(4,6,14)\n",
        "plt.pie(pie_18_19[1],labels=answers)\n",
        "plt.title('6-25')\n",
        "plt.subplot(4,6,15)\n",
        "plt.pie(pie_18_19[2],labels=answers)\n",
        "plt.title('26-100')\n",
        "plt.subplot(4,6,16)\n",
        "plt.pie(pie_18_19[3],labels=answers)\n",
        "plt.title('100-500')\n",
        "plt.subplot(4,6,17)\n",
        "plt.pie(pie_18_19[4],labels=answers)\n",
        "plt.title('500-1000')\n",
        "plt.subplot(4,6,18)\n",
        "plt.pie(pie_18_19[5],labels=answers)\n",
        "plt.title('1000+')\n",
        "\n",
        "print('Row 4: 2019')\n",
        "plt.subplot(4,6,19)\n",
        "plt.pie(pie_19_19[0],labels=answers)\n",
        "plt.title('1-5')\n",
        "plt.subplot(4,6,20)\n",
        "plt.pie(pie_19_19[1],labels=answers)\n",
        "plt.title('6-25')\n",
        "plt.subplot(4,6,21)\n",
        "plt.pie(pie_19_19[2],labels=answers)\n",
        "plt.title('26-100')\n",
        "plt.subplot(4,6,22)\n",
        "plt.pie(pie_19_19[3],labels=answers)\n",
        "plt.title('100-500')\n",
        "plt.subplot(4,6,23)\n",
        "plt.pie(pie_19_19[4],labels=answers)\n",
        "plt.title('500-1000')\n",
        "plt.subplot(4,6,24)\n",
        "plt.pie(pie_19_19[5],labels=answers)\n",
        "plt.title('1000+')\n",
        "plt.tight_layout()"
      ],
      "execution_count": null,
      "outputs": [
        {
          "output_type": "stream",
          "text": [
            "Would you feel comfortable discussing a mental health issue with your direct supervisor(s)? (by number of employees in the company)\n",
            "Row 1: 2016\n",
            "Row 2: 2017\n",
            "Row 3: 2018\n",
            "Row 4: 2019\n"
          ],
          "name": "stdout"
        },
        {
          "output_type": "display_data",
          "data": {
            "image/png": "[encoded data removed]",
            "text/plain": [
              "<Figure size 432x288 with 24 Axes>"
            ]
          },
          "metadata": {
            "tags": []
          }
        }
      ]
    },
    {
      "cell_type": "code",
      "metadata": {
        "id": "1eFil6j811Eo",
        "outputId": "5e6c7c02-eebe-4b19-9f60-9c092306f9ff"
      },
      "source": [
        "plt.plot(years,q_17_list_nontech)\n",
        "plt.plot(years,q_17_list_tech)\n",
        "plt.title('Would you feel comfortable discussing a mental health issue with your direct supervisor(s)? (Over time)')\n",
        "#q_17_data = pd.DataFrame(q_17_list,index=years)"
      ],
      "execution_count": null,
      "outputs": [
        {
          "output_type": "execute_result",
          "data": {
            "text/plain": [
              "Text(0.5, 1.0, 'Would you feel comfortable discussing a mental health issue with your direct supervisor(s)? (Over time)')"
            ]
          },
          "metadata": {
            "tags": []
          },
          "execution_count": 18
        },
        {
          "output_type": "display_data",
          "data": {
            "image/png": "[encoded data removed]",
            "text/plain": [
              "<Figure size 432x288 with 1 Axes>"
            ]
          },
          "metadata": {
            "tags": [],
            "needs_background": "light"
          }
        }
      ]
    },
    {
      "cell_type": "code",
      "metadata": {
        "id": "soLapDi211Eo",
        "outputId": "826218e2-a107-498b-88b8-ea5c3974a920"
      },
      "source": [
        "import plotly.express as px\n",
        "\n",
        "\n",
        "q_18_list_nontech = []\n",
        "q_18_list_tech = []\n",
        "\n",
        "#q_17_list.append(q_17(data_16.query('9 == 1',inplace=True)))\n",
        "q_18_list_nontech.append(q_18(data_16_n))\n",
        "q_18_list_nontech.append(q_18(data_17_n))\n",
        "q_18_list_nontech.append(q_18(data_18_n))\n",
        "q_18_list_nontech.append(q_18(data_19_n))\n",
        "\n",
        "q_18_list_tech.append(q_18(data_16_t))\n",
        "q_18_list_tech.append(q_18(data_17_t))\n",
        "q_18_list_tech.append(q_18(data_18_t))\n",
        "q_18_list_tech.append(q_18(data_19_t))\n",
        "\n",
        "years = [2016,2017,2018,2019]\n",
        "#plt.plot(years,q_18_list)\n",
        "\n",
        "pie_18_list16_t = pie_18(data_16_t)\n",
        "pie_18_list16_n = pie_18(data_16_n)\n",
        "pie_18_list17_t = pie_18(data_17_t)\n",
        "pie_18_list17_n = pie_18(data_17_n)\n",
        "pie_18_list18_t = pie_18(data_18_t)\n",
        "pie_18_list18_n = pie_18(data_18_n)\n",
        "pie_18_list19_t = pie_18(data_19_t)\n",
        "pie_18_list19_n = pie_18(data_19_n)\n",
        "answers = ['Yes','Maybe','No']\n",
        "# referenced https://stackoverflow.com/questions/42818361/how-to-make-two-plots-side-by-side-using-python\n",
        "plt.title('Would you feel comfortable discussing a mental health issue with your coworkers? Tech vs Non Tech')\n",
        "print('Would you feel comfortable discussing a mental health issue with your coworkers? Tech vs Non Tech')\n",
        "plt.subplot(2,4,1)\n",
        "plt.pie(pie_18_list16_t,labels=answers)\n",
        "plt.title('2016')\n",
        "plt.subplot(2,4,2)\n",
        "plt.pie(pie_18_list17_t,labels=answers)\n",
        "plt.title('2017')\n",
        "plt.subplot(2,4,3)\n",
        "plt.pie(pie_18_list18_t,labels=answers)\n",
        "plt.title('2018')\n",
        "plt.subplot(2,4,4)\n",
        "plt.pie(pie_18_list19_t,labels=answers)\n",
        "plt.title('2019')\n",
        "plt.subplot(2,4,5)\n",
        "plt.pie(pie_18_list16_n,labels=answers)\n",
        "plt.title('2016')\n",
        "plt.subplot(2,4,6)\n",
        "plt.pie(pie_18_list17_n,labels=answers)\n",
        "plt.title('2017')\n",
        "plt.subplot(2,4,7)\n",
        "plt.pie(pie_18_list18_n,labels=answers)\n",
        "plt.title('2018')\n",
        "plt.subplot(2,4,8)\n",
        "plt.pie(pie_18_list19_n,labels=answers)\n",
        "plt.title('2019')\n",
        "plt.tight_layout()\n"
      ],
      "execution_count": null,
      "outputs": [
        {
          "output_type": "stream",
          "text": [
            "Would you feel comfortable discussing a mental health issue with your coworkers? Tech vs Non Tech\n"
          ],
          "name": "stdout"
        },
        {
          "output_type": "display_data",
          "data": {
            "image/png": "[encoded data removed]",
            "text/plain": [
              "<Figure size 432x288 with 8 Axes>"
            ]
          },
          "metadata": {
            "tags": []
          }
        }
      ]
    },
    {
      "cell_type": "code",
      "metadata": {
        "id": "-HCDTzFz11Ep",
        "outputId": "6974cf67-3836-454a-b22d-1bcc130046a5"
      },
      "source": [
        "plt.plot(years,q_18_list_nontech)\n",
        "plt.plot(years,q_18_list_tech)\n",
        "plt.title('Would you feel comfortable discussing a mental health issue with your coworkers? (Over time)')"
      ],
      "execution_count": null,
      "outputs": [
        {
          "output_type": "execute_result",
          "data": {
            "text/plain": [
              "Text(0.5, 1.0, 'Would you feel comfortable discussing a mental health issue with your coworkers? (Over time)')"
            ]
          },
          "metadata": {
            "tags": []
          },
          "execution_count": 21
        },
        {
          "output_type": "display_data",
          "data": {
            "image/png": "[encoded data removed]",
            "text/plain": [
              "<Figure size 432x288 with 1 Axes>"
            ]
          },
          "metadata": {
            "tags": [],
            "needs_background": "light"
          }
        }
      ]
    },
    {
      "cell_type": "code",
      "metadata": {
        "id": "b50yQIg911Ep",
        "outputId": "9ef1020b-6446-46b1-936d-aa0e6d0bae09"
      },
      "source": [
        "q_72_list_nontech = []\n",
        "q_72_list_tech = []\n",
        "\n",
        "#q_17_list.append(q_17(data_16.query('9 == 1',inplace=True)))\n",
        "\n",
        "q_72_list_nontech.append(q_72(data_17_n))\n",
        "q_72_list_nontech.append(q_72(data_18_n))\n",
        "q_72_list_nontech.append(q_72(data_19_n))\n",
        "\n",
        "\n",
        "q_72_list_tech.append(q_72(data_17_t))\n",
        "q_72_list_tech.append(q_72(data_18_t))\n",
        "q_72_list_tech.append(q_72(data_19_t))\n",
        "\n",
        "years = [2017,2018,2019]\n",
        "plt.plot(years,q_72_list_nontech)\n",
        "plt.plot(years,q_72_list_tech)\n",
        "\n",
        "\n",
        "pie_72_list17_t = pie_72(data_17_t)\n",
        "pie_72_list17_n = pie_72(data_17_n)\n",
        "pie_72_list18_t = pie_72(data_18_t)\n",
        "pie_72_list18_n = pie_72(data_18_n)\n",
        "pie_72_list19_t = pie_72(data_19_t)\n",
        "pie_72_list19_n = pie_72(data_19_n)\n",
        "answers = [1,2,3,4,5]\n",
        "# referenced https://stackoverflow.com/questions/42818361/how-to-make-two-plots-side-by-side-using-python\n",
        "plt.title('Overall, how well do you think the tech industry supports employees with mental health issues? Tech vs Non Tech')\n",
        "print('Overall, how well do you think the tech industry supports employees with mental health issues? Tech vs Non Tech')\n",
        "\n",
        "plt.subplot(2,3,1)\n",
        "plt.pie(pie_72_list17_t,labels=answers)\n",
        "plt.title('2017')\n",
        "plt.subplot(2,3,2)\n",
        "plt.pie(pie_72_list18_t,labels=answers)\n",
        "plt.title('2018')\n",
        "plt.subplot(2,3,3)\n",
        "plt.pie(pie_72_list19_t,labels=answers)\n",
        "plt.title('2019')\n",
        "\n",
        "plt.subplot(2,3,4)\n",
        "plt.pie(pie_72_list17_n,labels=answers)\n",
        "plt.title('2017')\n",
        "plt.subplot(2,3,5)\n",
        "plt.pie(pie_72_list18_n,labels=answers)\n",
        "plt.title('2018')\n",
        "plt.subplot(2,3,6)\n",
        "plt.pie(pie_72_list19_n,labels=answers)\n",
        "plt.title('2019')\n",
        "plt.tight_layout()"
      ],
      "execution_count": null,
      "outputs": [
        {
          "output_type": "stream",
          "text": [
            "Overall, how well do you think the tech industry supports employees with mental health issues? Tech vs Non Tech\n"
          ],
          "name": "stdout"
        },
        {
          "output_type": "display_data",
          "data": {
            "image/png": "[encoded data removed]",
            "text/plain": [
              "<Figure size 432x288 with 6 Axes>"
            ]
          },
          "metadata": {
            "tags": []
          }
        }
      ]
    },
    {
      "cell_type": "code",
      "metadata": {
        "id": "W_qdXSvI11Ep",
        "outputId": "d0c0b7cb-1228-4cdc-b881-22058b60e580"
      },
      "source": [
        "plt.plot(years,q_72_list_nontech)\n",
        "plt.plot(years,q_72_list_tech)\n",
        "plt.title('Overall, how well do you think the tech industry supports employees with mental health issues? (Over time)')"
      ],
      "execution_count": null,
      "outputs": [
        {
          "output_type": "execute_result",
          "data": {
            "text/plain": [
              "Text(0.5, 1.0, 'Overall, how well do you think the tech industry supports employees with mental health issues? (Over time)')"
            ]
          },
          "metadata": {
            "tags": []
          },
          "execution_count": 25
        },
        {
          "output_type": "display_data",
          "data": {
            "image/png": "[encoded data removed]",
            "text/plain": [
              "<Figure size 432x288 with 1 Axes>"
            ]
          },
          "metadata": {
            "tags": [],
            "needs_background": "light"
          }
        }
      ]
    },
    {
      "cell_type": "code",
      "metadata": {
        "id": "7vsOwRDt11Ep",
        "outputId": "0d53e7d6-1d05-4b46-d636-4fdc58664d51"
      },
      "source": [
        "q_16_list_nontech = []\n",
        "q_16_list_tech = []\n",
        "\n",
        "#q_17_list.append(q_17(data_16.query('9 == 1',inplace=True)))\n",
        "q_16_list_nontech.append(q_16(data_16_n))\n",
        "q_16_list_nontech.append(q_16(data_17_n))\n",
        "q_16_list_nontech.append(q_16(data_18_n))\n",
        "q_16_list_nontech.append(q_16(data_19_n))\n",
        "\n",
        "q_16_list_tech.append(q_16(data_16_t))\n",
        "q_16_list_tech.append(q_16(data_17_t))\n",
        "q_16_list_tech.append(q_16(data_18_t))\n",
        "q_16_list_tech.append(q_16(data_19_t))\n",
        "\n",
        "years = [2016,2017,2018,2019]\n",
        "plt.plot(years,q_16_list_nontech)\n",
        "plt.plot(years,q_16_list_tech)\n",
        "\n",
        "pie_16_list16_t = pie_16(data_16_t)\n",
        "pie_16_list16_n = pie_16(data_16_n)\n",
        "pie_16_list17_t = pie_16(data_17_t)\n",
        "pie_16_list17_n = pie_16(data_17_n)\n",
        "pie_16_list18_t = pie_16(data_18_t)\n",
        "pie_16_list18_n = pie_16(data_18_n)\n",
        "pie_16_list19_t = pie_16(data_19_t)\n",
        "pie_16_list19_n = pie_16(data_19_n)\n",
        "answers = ['Yes','Maybe','No']\n",
        "# referenced https://stackoverflow.com/questions/42818361/how-to-make-two-plots-side-by-side-using-python\n",
        "plt.title('Would you feel comfortable discussing a mental health issue with your direct supervisor(s)?')\n",
        "print('Would you feel comfortable discussing a mental health issue with your direct supervisor(s)? Tech vs Non Tech')\n",
        "plt.subplot(2,4,1)\n",
        "plt.pie(pie_16_list16_t,labels=answers)\n",
        "plt.title('2016')\n",
        "plt.subplot(2,4,2)\n",
        "plt.pie(pie_16_list17_t,labels=answers)\n",
        "plt.title('2017')\n",
        "plt.subplot(2,4,3)\n",
        "plt.pie(pie_16_list18_t,labels=answers)\n",
        "plt.title('2018')\n",
        "plt.subplot(2,4,4)\n",
        "plt.pie(pie_16_list19_t,labels=answers)\n",
        "plt.title('2019')\n",
        "plt.subplot(2,4,5)\n",
        "plt.pie(pie_16_list16_n,labels=answers)\n",
        "plt.title('2016')\n",
        "plt.subplot(2,4,6)\n",
        "plt.pie(pie_16_list17_n,labels=answers)\n",
        "plt.title('2017')\n",
        "plt.subplot(2,4,7)\n",
        "plt.pie(pie_16_list18_n,labels=answers)\n",
        "plt.title('2018')\n",
        "plt.subplot(2,4,8)\n",
        "plt.pie(pie_16_list19_n,labels=answers)\n",
        "plt.title('2019')\n",
        "plt.tight_layout()"
      ],
      "execution_count": null,
      "outputs": [
        {
          "output_type": "stream",
          "text": [
            "Would you feel comfortable discussing a mental health issue with your direct supervisor(s)? Tech vs Non Tech\n"
          ],
          "name": "stdout"
        },
        {
          "output_type": "display_data",
          "data": {
            "image/png": "[encoded data removed]",
            "text/plain": [
              "<Figure size 432x288 with 8 Axes>"
            ]
          },
          "metadata": {
            "tags": []
          }
        }
      ]
    },
    {
      "cell_type": "code",
      "metadata": {
        "id": "ug9LR8ee11Ep",
        "outputId": "9e094c8b-ccab-4f05-cc93-a3e4eeaf25ca"
      },
      "source": [
        "plt.plot(years,q_16_list_nontech)\n",
        "plt.plot(years,q_16_list_tech)\n",
        "plt.title('Does your employer offer resources to learn more about mental health disorders and options for seeking ')"
      ],
      "execution_count": null,
      "outputs": [
        {
          "output_type": "execute_result",
          "data": {
            "text/plain": [
              "Text(0.5, 1.0, 'Does your employer offer resources to learn more about mental health disorders and options for seeking ')"
            ]
          },
          "metadata": {
            "tags": []
          },
          "execution_count": 27
        },
        {
          "output_type": "display_data",
          "data": {
            "image/png": "[encoded data removed]",
            "text/plain": [
              "<Figure size 432x288 with 1 Axes>"
            ]
          },
          "metadata": {
            "tags": [],
            "needs_background": "light"
          }
        }
      ]
    },
    {
      "cell_type": "code",
      "metadata": {
        "id": "VbbaCmal11Ep"
      },
      "source": [
        "def convert_56(data):\n",
        "    index = 0\n",
        "    index_list = data.index\n",
        "    for row in data['69']:\n",
        "        if row == 'Mental health':\n",
        "            data.replace(row,50,inplace=True)\n",
        "        elif row == 'Physical health':\n",
        "            data.replace(row,0,inplace=True)\n",
        "        elif row == 'Same level of comfort for each':\n",
        "            data.replace(row,100,inplace=True)\n",
        "        elif str(row) == 'nan':\n",
        "            data.drop(index=index_list[index],inplace=True)\n",
        "        index += 1\n",
        "    return data"
      ],
      "execution_count": null,
      "outputs": []
    },
    {
      "cell_type": "code",
      "metadata": {
        "id": "S6FWly6M11Ep"
      },
      "source": [
        "def convert_16(data):\n",
        "    index = 0\n",
        "    index_list = data.index\n",
        "    for row in data['16']:\n",
        "        if row == 'Yes':\n",
        "            data.replace(row,100,inplace=True)\n",
        "        elif row == 'I don\\'t know':\n",
        "            data.replace(row,50,inplace=True)\n",
        "        elif row == 'No':\n",
        "            data.replace(row,0,inplace=True)\n",
        "        elif str(row) == 'nan':\n",
        "            data.drop(index=index_list[index],inplace=True)\n",
        "        index += 1\n",
        "    return data"
      ],
      "execution_count": null,
      "outputs": []
    },
    {
      "cell_type": "code",
      "metadata": {
        "id": "rSSBmbSB11Ep"
      },
      "source": [
        "def convert_17(data):\n",
        "    index = 0\n",
        "    index_list = data.index\n",
        "    for row in data['19']:\n",
        "        if row == 'Yes':\n",
        "            data.replace(row,100,inplace=True)\n",
        "        elif row == 'Maybe':\n",
        "            data.replace(row,50,inplace=True)\n",
        "        elif row == 'No':\n",
        "            data.replace(row,0,inplace=True)\n",
        "        elif str(row) == 'nan':\n",
        "            data.drop(index=index_list[index],inplace=True)\n",
        "        index += 1\n",
        "    return data"
      ],
      "execution_count": null,
      "outputs": []
    },
    {
      "cell_type": "code",
      "metadata": {
        "id": "VuJYpe2c11Ep"
      },
      "source": [
        "def convert_18(data):\n",
        "    index = 0\n",
        "    index_list = data.index\n",
        "    for row in data['18']:\n",
        "        if row == 'Yes':\n",
        "            data.replace(row,100,inplace=True)\n",
        "        elif row == 'Maybe':\n",
        "            data.replace(row,50,inplace=True)\n",
        "        elif row == 'No':\n",
        "            data.replace(row,0,inplace=True)\n",
        "        elif str(row) == 'nan':\n",
        "            data.drop(index=index_list[index],inplace=True)\n",
        "        index += 1\n",
        "    return data"
      ],
      "execution_count": null,
      "outputs": []
    },
    {
      "cell_type": "code",
      "metadata": {
        "id": "Tjjs2-Ia11Ep"
      },
      "source": [
        "def convert_72(data):\n",
        "    index = 0\n",
        "    index_list = data.index\n",
        "    for row in data['85']:\n",
        "        if row == 1:\n",
        "            data.replace(row,0,inplace=True)\n",
        "        elif row == 2:\n",
        "            data.replace(row,25,inplace=True)\n",
        "        elif row == 3:\n",
        "            data.replace(row,50,inplace=True)\n",
        "        elif row == 4:\n",
        "            data.replace(row,75,inplace=True)\n",
        "        elif row == 5:\n",
        "            data.replace(row,100,inplace=True)\n",
        "        elif str(row) == 'nan':\n",
        "            data.drop(index=index_list[index],inplace=True)\n",
        "        index += 1\n",
        "    return data"
      ],
      "execution_count": null,
      "outputs": []
    },
    {
      "cell_type": "code",
      "metadata": {
        "id": "HimGScPE11Ep"
      },
      "source": [
        "data_17_t = convert_72(data_17_t)\n",
        "data_18_t = convert_72(data_18_t)\n",
        "data_19_t = convert_72(data_19_t)\n",
        "\n",
        "data_16_t = convert_16(data_16_t)\n",
        "data_17_t = convert_16(data_17_t)\n",
        "data_18_t = convert_16(data_18_t)\n",
        "data_19_t = convert_16(data_19_t)\n",
        "\n",
        "data_16_t = convert_17(data_16_t)\n",
        "data_17_t = convert_17(data_17_t)\n",
        "data_18_t = convert_17(data_18_t)\n",
        "data_19_t = convert_17(data_19_t)\n",
        "\n",
        "data_16_t = convert_18(data_16_t)\n",
        "data_17_t = convert_18(data_17_t)\n",
        "data_18_t = convert_18(data_18_t)\n",
        "data_19_t = convert_18(data_19_t)\n",
        "\n",
        "\n",
        "data_17_t = convert_56(data_17_t)\n",
        "data_18_t = convert_56(data_18_t)\n",
        "data_19_t = convert_56(data_19_t)\n"
      ],
      "execution_count": null,
      "outputs": []
    },
    {
      "cell_type": "code",
      "metadata": {
        "id": "2oJPI0Kj11Ep",
        "outputId": "a25eae1c-17e6-4d9a-952f-551d756bf805"
      },
      "source": [
        "from sklearn.linear_model import LinearRegression\n",
        "data_17_t = pd.DataFrame(data_17_t)\n",
        "#print(data_17_t.index)\n",
        "X = np.array(data_17_t['69']).reshape(-1,1)\n",
        "\n",
        "lin_reg = LinearRegression().fit(X,data_17_t['85'])\n",
        "y = data_17_t['85']\n",
        "print('score:',lin_reg.score(X,data_17_t['85']))\n",
        "X = data_17_t['69']\n",
        "print('correlation:',X.corr(y))"
      ],
      "execution_count": null,
      "outputs": [
        {
          "output_type": "stream",
          "text": [
            "score: 0.004316866088233784\n",
            "correlation: 0.06570286210077773\n"
          ],
          "name": "stdout"
        }
      ]
    },
    {
      "cell_type": "code",
      "metadata": {
        "id": "rxKewzxT11Ep",
        "outputId": "50e6adc6-9662-463c-ce35-84e33b3a5ac3"
      },
      "source": [
        "data_18_t = pd.DataFrame(data_18_t)\n",
        "#print(data_17_t.index)\n",
        "X = np.array(data_18_t['69']).reshape(-1,1)\n",
        "\n",
        "lin_reg = LinearRegression().fit(X,data_18_t['85'])\n",
        "y = data_18_t['85']\n",
        "print('score:',lin_reg.score(X,data_18_t['85']))\n",
        "X = data_18_t['69']\n",
        "print('correlation:',X.corr(y))"
      ],
      "execution_count": null,
      "outputs": [
        {
          "output_type": "stream",
          "text": [
            "score: 0.05335696594748085\n",
            "correlation: 0.23099126811955642\n"
          ],
          "name": "stdout"
        }
      ]
    },
    {
      "cell_type": "code",
      "metadata": {
        "id": "PPnTUsci11Eq",
        "outputId": "20eadbd2-c7e0-45e3-f0e2-78279824654d"
      },
      "source": [
        "data_19_t = pd.DataFrame(data_19_t)\n",
        "#print(data_17_t.index)\n",
        "X = np.array(data_19_t['69']).reshape(-1,1)\n",
        "\n",
        "lin_reg = LinearRegression().fit(X,data_19_t['85'])\n",
        "y = data_19_t['85']\n",
        "print('score:',lin_reg.score(X,data_19_t['85']))\n",
        "X = data_19_t['69']\n",
        "print('correlation:',X.corr(y))"
      ],
      "execution_count": null,
      "outputs": [
        {
          "output_type": "stream",
          "text": [
            "score: 0.001488488599249882\n",
            "correlation: 0.038580935696920025\n"
          ],
          "name": "stdout"
        }
      ]
    },
    {
      "cell_type": "code",
      "metadata": {
        "id": "4t3B-QzD11Eq",
        "outputId": "2ab9d7bc-f766-4559-b4aa-4cc9892313c1"
      },
      "source": [
        "data_16_t = pd.DataFrame(data_16_t)\n",
        "#print(data_17_t.index)\n",
        "X = np.array(data_16_t['16']).reshape(-1,1)\n",
        "\n",
        "lin_reg = LinearRegression().fit(X,data_16_t['19'])\n",
        "y = data_16_t['19']\n",
        "print('score:',lin_reg.score(X,data_16_t['19']))\n",
        "X = data_16_t['16']\n",
        "print('correlation:',X.corr(y))"
      ],
      "execution_count": null,
      "outputs": [
        {
          "output_type": "stream",
          "text": [
            "score: 0.00892958551337486\n",
            "correlation: 0.09449648413234749\n"
          ],
          "name": "stdout"
        }
      ]
    },
    {
      "cell_type": "code",
      "metadata": {
        "id": "ERqLcFtY11Er",
        "outputId": "5b66a940-6b5c-436f-f912-49aee7d95674"
      },
      "source": [
        "data_17_t = pd.DataFrame(data_17_t)\n",
        "#print(data_17_t.index)\n",
        "X = np.array(data_17_t['16']).reshape(-1,1)\n",
        "\n",
        "lin_reg = LinearRegression().fit(X,data_17_t['19'])\n",
        "y = data_17_t['19']\n",
        "print('score:',lin_reg.score(X,data_17_t['19']))\n",
        "X = data_17_t['16']\n",
        "print('correlation:',X.corr(y))"
      ],
      "execution_count": null,
      "outputs": [
        {
          "output_type": "stream",
          "text": [
            "score: 0.014374420501350516\n",
            "correlation: 0.11989337138203492\n"
          ],
          "name": "stdout"
        }
      ]
    },
    {
      "cell_type": "code",
      "metadata": {
        "id": "IXZPqpAB11Er"
      },
      "source": [
        ""
      ],
      "execution_count": null,
      "outputs": []
    }
  ]
}