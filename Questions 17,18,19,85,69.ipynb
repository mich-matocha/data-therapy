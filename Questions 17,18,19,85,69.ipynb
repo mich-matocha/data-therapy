{
 "cells": [
  {
   "cell_type": "code",
   "execution_count": 65,
   "metadata": {},
   "outputs": [],
   "source": [
    "import pandas as pd\n",
    "import matplotlib.pyplot as plt\n",
    "import requests\n",
    "import io\n",
    "import numpy as np\n",
    "import seaborn as sns\n",
    "import plotly.express as px\n",
    "\n",
    "def load_data(url):\n",
    "    url_content = requests.get(url).text\n",
    "\n",
    "\n",
    "\n",
    "    #with open()\n",
    "    data = pd.read_csv(url,encoding='utf-8')\n",
    "    return data\n",
    "#data.head()"
   ]
  },
  {
   "cell_type": "code",
   "execution_count": 3,
   "metadata": {},
   "outputs": [],
   "source": [
    "def clean_data(df):\n",
    "    df = df.replace('-1',np.NaN)\n",
    "    index = 0\n",
    "    for row in df['3']:\n",
    "        if row != 'United States of America':\n",
    "            df.drop(index=index,inplace=True)\n",
    "        index += 1\n",
    "    data_index = df.index\n",
    "\n",
    "    index = 0 \n",
    "    for row in df['5']:\n",
    "        if row == 1:\n",
    "            df.drop(index=data_index[index],inplace=True)\n",
    "        index += 1\n",
    "    return df"
   ]
  },
  {
   "cell_type": "code",
   "execution_count": 4,
   "metadata": {},
   "outputs": [],
   "source": [
    "def q_17(data):\n",
    "    comfort_sum = 0\n",
    "    comfort_count = 0\n",
    "    for row in data['19']:\n",
    "        if row == 'Yes':\n",
    "            comfort_sum += 100\n",
    "        elif row == 'Maybe':\n",
    "            comfort_sum += 50\n",
    "        elif row == 'No':\n",
    "            comfort_sum += 0\n",
    "        comfort_count  += 1\n",
    "    if comfort_count == 0:\n",
    "        avg_comfort = 0\n",
    "    else:\n",
    "        avg_comfort = comfort_sum/comfort_count\n",
    "    #print(avg_comfort)\n",
    "    comfort_coworkers = avg_comfort\n",
    "    return comfort_coworkers\n",
    "def pie_17(data):\n",
    "    yes = 0\n",
    "    maybe = 0\n",
    "    no = 0\n",
    "    for row in data['19']:\n",
    "        if row == 'Yes':\n",
    "            yes += 1\n",
    "        elif row == 'Maybe':\n",
    "            maybe += 1\n",
    "        elif row == 'No':\n",
    "            no += 1\n",
    "    return [yes,maybe,no]"
   ]
  },
  {
   "cell_type": "code",
   "execution_count": 131,
   "metadata": {},
   "outputs": [],
   "source": [
    "def q_16(data):\n",
    "    comfort_sum = 0\n",
    "    comfort_count = 0\n",
    "    for row in data['16']:\n",
    "        if row == 'Yes':\n",
    "            comfort_sum += 100\n",
    "        elif row == 'I don\\'t know':\n",
    "            comfort_sum += 50\n",
    "        elif row == 'No':\n",
    "            comfort_sum += 0\n",
    "        comfort_count  += 1\n",
    "    if comfort_count == 0:\n",
    "        avg_comfort = 0\n",
    "    else:\n",
    "        avg_comfort = comfort_sum/comfort_count\n",
    "    \n",
    "    comfort_coworkers = avg_comfort\n",
    "    return comfort_coworkers\n",
    "def pie_16(data):\n",
    "    yes = 0\n",
    "    maybe = 0\n",
    "    no = 0\n",
    "    for row in data['16']:\n",
    "        if row == 'Yes':\n",
    "            yes += 1\n",
    "        elif row == 'I don\\'t know':\n",
    "            maybe += 1\n",
    "        elif row == 'No':\n",
    "            no += 1\n",
    "    return [yes,maybe,no]"
   ]
  },
  {
   "cell_type": "code",
   "execution_count": 6,
   "metadata": {},
   "outputs": [],
   "source": [
    "def q_18(data):\n",
    "    comfort_sum = 0\n",
    "    comfort_count = 0\n",
    "    for row in data['18']:\n",
    "        if row == 'Yes':\n",
    "            comfort_sum += 100\n",
    "        elif row == 'Maybe':\n",
    "            comfort_sum += 50\n",
    "        elif row == 'No':\n",
    "            comfort_sum += 0\n",
    "        comfort_count  += 1\n",
    "    if comfort_count == 0:\n",
    "        avg_comfort = 0\n",
    "    else:\n",
    "        avg_comfort = comfort_sum/comfort_count\n",
    "    \n",
    "    comfort_coworkers = avg_comfort\n",
    "    return comfort_coworkers\n",
    "def pie_18(data):\n",
    "    yes = 0\n",
    "    maybe = 0\n",
    "    no = 0\n",
    "    for row in data['18']:\n",
    "        if row == 'Yes':\n",
    "            yes += 1\n",
    "        elif row == 'Maybe':\n",
    "            maybe += 1\n",
    "        elif row == 'No':\n",
    "            no += 1\n",
    "    return [yes,maybe,no]"
   ]
  },
  {
   "cell_type": "code",
   "execution_count": 40,
   "metadata": {},
   "outputs": [],
   "source": [
    "def q_56(data):\n",
    "    employer_mental_phys_sum = 0\n",
    "    employer_ment_phys_count = 0\n",
    "    for row in data['69']:\n",
    "        if row == 'Mental health':\n",
    "            employer_mental_phys_sum += 50\n",
    "        elif row == 'Physical health':\n",
    "            employer_mental_phys_sum += 0\n",
    "        elif row == 'Same level of comfort for each':\n",
    "            employer_mental_phys_sum += 100\n",
    "        employer_ment_phys_count += 1\n",
    "    if employer_ment_phys_count == 0:\n",
    "        avg_employer_ment_phys = 0\n",
    "    else:\n",
    "        avg_employer_ment_phys = employer_mental_phys_sum / employer_ment_phys_count\n",
    "    return avg_employer_ment_phys\n",
    "def pie_56(data):\n",
    "    mental = 0\n",
    "    physical = 0\n",
    "    same = 0\n",
    "    for row in data['69']:\n",
    "        if row == 'Mental health':\n",
    "            mental += 1\n",
    "        elif row == 'Physical health':\n",
    "            physical += 1\n",
    "        elif row == 'Same level of comfort for each':\n",
    "            same += 1\n",
    "    return [mental,physical,same]"
   ]
  },
  {
   "cell_type": "code",
   "execution_count": 25,
   "metadata": {},
   "outputs": [],
   "source": [
    "def q_72(data):\n",
    "    sum_ = 0\n",
    "    count = 0\n",
    "    for row in data['85']:\n",
    "        if row == 1:\n",
    "            sum_ += 0\n",
    "        elif row == 2:\n",
    "            sum_ += 25\n",
    "        elif row == 3:\n",
    "            sum_ += 50\n",
    "        elif row == 4:\n",
    "            sum_ += 75\n",
    "        elif row == 5:\n",
    "            sum_ += 100\n",
    "        count += 1\n",
    "    \n",
    "    if count == 0:\n",
    "        avg = 0\n",
    "    else:\n",
    "        avg = sum_ / count\n",
    "    return avg\n",
    "def pie_72(data):\n",
    "    one = 0\n",
    "    two = 0\n",
    "    three = 0\n",
    "    four = 0\n",
    "    five = 0\n",
    "    for row in data['85']:\n",
    "        if row == 1:\n",
    "            one += 1\n",
    "        elif row == 2:\n",
    "            two += 1\n",
    "        elif row == 3:\n",
    "            three += 1\n",
    "        elif row == 4:\n",
    "            four += 1\n",
    "        elif row == 5:\n",
    "            five += 1\n",
    "    return [one,two,three,four,five]"
   ]
  },
  {
   "cell_type": "code",
   "execution_count": 191,
   "metadata": {},
   "outputs": [],
   "source": [
    "url_16 = \"https://raw.githubusercontent.com/mich-matocha/data-therapy/main/data/QA_2016.T.csv\"\n",
    "url_17 = \"https://raw.githubusercontent.com/mich-matocha/data-therapy/main/data/QA_2017.T.csv\"\n",
    "url_18 = \"https://raw.githubusercontent.com/mich-matocha/data-therapy/main/data/QA_2018.T.csv\"\n",
    "url_19 = \"https://raw.githubusercontent.com/mich-matocha/data-therapy/main/data/QA_2019.T.csv\"\n",
    "\n",
    "data_16 = load_data(url_16)\n",
    "data_17 = load_data(url_17)\n",
    "data_18 = load_data(url_18)\n",
    "data_19 = load_data(url_19)\n",
    "\n",
    "data_16 = clean_data(data_16)\n",
    "data_17 = clean_data(data_17)\n",
    "data_18 = clean_data(data_18)\n",
    "data_19 = clean_data(data_19)"
   ]
  },
  {
   "cell_type": "code",
   "execution_count": 192,
   "metadata": {},
   "outputs": [],
   "source": [
    "def split_tech_non(df):\n",
    "    # Tech, Non-Tech\n",
    "    return df.loc[df['9'] == 1].copy(), df.loc[df['9'] == 0].copy()\n",
    "\n",
    "\n",
    "data_16_t, data_16_n = split_tech_non(data_16)\n",
    "data_17_t, data_17_n = split_tech_non(data_17)\n",
    "data_18_t, data_18_n = split_tech_non(data_18)\n",
    "data_19_t, data_19_n = split_tech_non(data_19)"
   ]
  },
  {
   "cell_type": "code",
   "execution_count": null,
   "metadata": {},
   "outputs": [],
   "source": []
  },
  {
   "cell_type": "code",
   "execution_count": 94,
   "metadata": {},
   "outputs": [
    {
     "name": "stdout",
     "output_type": "stream",
     "text": [
      "Would you feel comfortable discussing a mental health issue with your direct supervisor(s)? Tech vs Non Tech\n"
     ]
    },
    {
     "data": {
      "image/png": "[encoded data removed]",
      "text/plain": [
       "<Figure size 432x288 with 8 Axes>"
      ]
     },
     "metadata": {},
     "output_type": "display_data"
    }
   ],
   "source": [
    "#print(q_17(data_16))\n",
    "#print(q_17(data_17))\n",
    "#print(q_17(data_18))\n",
    "#print(q_17(data_19))\n",
    "\n",
    "q_17_list_nontech = []\n",
    "q_17_list_tech = []\n",
    "\n",
    "#q_17_list.append(q_17(data_16.query('9 == 1',inplace=True)))\n",
    "q_17_list_nontech.append(q_17(data_16_n))\n",
    "q_17_list_nontech.append(q_17(data_17_n))\n",
    "q_17_list_nontech.append(q_17(data_18_n))\n",
    "q_17_list_nontech.append(q_17(data_19_n))\n",
    "\n",
    "q_17_list_tech.append(q_17(data_16_t))\n",
    "q_17_list_tech.append(q_17(data_17_t))\n",
    "q_17_list_tech.append(q_17(data_18_t))\n",
    "q_17_list_tech.append(q_17(data_19_t))\n",
    "\n",
    "years = [2016,2017,2018,2019]\n",
    "plt.plot(years,q_17_list)\n",
    "\n",
    "pie_17_list16_t = pie_17(data_16_t)\n",
    "pie_17_list16_n = pie_17(data_16_n)\n",
    "pie_17_list17_t = pie_17(data_17_t)\n",
    "pie_17_list17_n = pie_17(data_17_n)\n",
    "pie_17_list18_t = pie_17(data_18_t)\n",
    "pie_17_list18_n = pie_17(data_18_n)\n",
    "pie_17_list19_t = pie_17(data_19_t)\n",
    "pie_17_list19_n = pie_17(data_19_n)\n",
    "answers = ['Yes','Maybe','No']\n",
    "# referenced https://stackoverflow.com/questions/42818361/how-to-make-two-plots-side-by-side-using-python\n",
    "plt.title('Would you feel comfortable discussing a mental health issue with your direct supervisor(s)?')\n",
    "print('Would you feel comfortable discussing a mental health issue with your direct supervisor(s)? Tech vs Non Tech')\n",
    "plt.subplot(2,4,1)\n",
    "plt.pie(pie_17_list16_t,labels=answers)\n",
    "plt.title('2016')\n",
    "plt.subplot(2,4,2)\n",
    "plt.pie(pie_17_list17_t,labels=answers)\n",
    "plt.title('2017')\n",
    "plt.subplot(2,4,3)\n",
    "plt.pie(pie_17_list18_t,labels=answers)\n",
    "plt.title('2018')\n",
    "plt.subplot(2,4,4)\n",
    "plt.pie(pie_17_list19_t,labels=answers)\n",
    "plt.title('2019')\n",
    "plt.subplot(2,4,5)\n",
    "plt.pie(pie_17_list16_n,labels=answers)\n",
    "plt.title('2016')\n",
    "plt.subplot(2,4,6)\n",
    "plt.pie(pie_17_list17_n,labels=answers)\n",
    "plt.title('2017')\n",
    "plt.subplot(2,4,7)\n",
    "plt.pie(pie_17_list18_n,labels=answers)\n",
    "plt.title('2018')\n",
    "plt.subplot(2,4,8)\n",
    "plt.pie(pie_17_list19_n,labels=answers)\n",
    "plt.title('2019')\n",
    "plt.tight_layout()"
   ]
  },
  {
   "cell_type": "code",
   "execution_count": null,
   "metadata": {},
   "outputs": [],
   "source": []
  },
  {
   "cell_type": "code",
   "execution_count": 79,
   "metadata": {},
   "outputs": [
    {
     "data": {
      "image/png": "[encoded data removed]",
      "text/plain": [
       "<Figure size 432x288 with 1 Axes>"
      ]
     },
     "metadata": {},
     "output_type": "display_data"
    }
   ],
   "source": [
    "plt.plot(years,q_17_list)\n",
    "plt.title('Would you feel comfortable discussing a mental health issue with your direct supervisor(s)? (Over time)')\n",
    "q_17_data = pd.DataFrame(q_17_list,index=years)\n",
    "#q_17_data.head()\n",
    "#q_17__data = sns.load_dataset(q_17_data)\n",
    "#sns.lineplot(data=q_17_data,x=q_17_data.index,y=q_17_data[0])\n",
    "#sns.set_style(\"dark\")\n"
   ]
  },
  {
   "cell_type": "code",
   "execution_count": 100,
   "metadata": {},
   "outputs": [
    {
     "name": "stdout",
     "output_type": "stream",
     "text": [
      "Would you feel comfortable discussing a mental health issue with your coworkers? Tech vs Non Tech\n"
     ]
    },
    {
     "data": {
      "image/png": "[encoded data removed]",
      "text/plain": [
       "<Figure size 432x288 with 8 Axes>"
      ]
     },
     "metadata": {},
     "output_type": "display_data"
    }
   ],
   "source": [
    "#print(q_18(data_16))\n",
    "#print(q_18(data_17))\n",
    "#print(q_18(data_18))\n",
    "#print(q_18(data_19))\n",
    "import plotly.express as px\n",
    "\n",
    "\n",
    "q_18_list_nontech = []\n",
    "q_18_list_tech = []\n",
    "\n",
    "#q_17_list.append(q_17(data_16.query('9 == 1',inplace=True)))\n",
    "q_18_list_nontech.append(q_18(data_16_n))\n",
    "q_18_list_nontech.append(q_18(data_17_n))\n",
    "q_18_list_nontech.append(q_18(data_18_n))\n",
    "q_18_list_nontech.append(q_18(data_19_n))\n",
    "\n",
    "q_18_list_tech.append(q_18(data_16_t))\n",
    "q_18_list_tech.append(q_18(data_17_t))\n",
    "q_18_list_tech.append(q_18(data_18_t))\n",
    "q_18_list_tech.append(q_18(data_19_t))\n",
    "\n",
    "years = [2016,2017,2018,2019]\n",
    "plt.plot(years,q_18_list)\n",
    "\n",
    "pie_18_list16_t = pie_18(data_16_t)\n",
    "pie_18_list16_n = pie_18(data_16_n)\n",
    "pie_18_list17_t = pie_18(data_17_t)\n",
    "pie_18_list17_n = pie_18(data_17_n)\n",
    "pie_18_list18_t = pie_18(data_18_t)\n",
    "pie_18_list18_n = pie_18(data_18_n)\n",
    "pie_18_list19_t = pie_18(data_19_t)\n",
    "pie_18_list19_n = pie_18(data_19_n)\n",
    "answers = ['Yes','Maybe','No']\n",
    "# referenced https://stackoverflow.com/questions/42818361/how-to-make-two-plots-side-by-side-using-python\n",
    "plt.title('Would you feel comfortable discussing a mental health issue with your coworkers? Tech vs Non Tech')\n",
    "print('Would you feel comfortable discussing a mental health issue with your coworkers? Tech vs Non Tech')\n",
    "plt.subplot(2,4,1)\n",
    "plt.pie(pie_18_list16_t,labels=answers)\n",
    "plt.title('2016')\n",
    "plt.subplot(2,4,2)\n",
    "plt.pie(pie_18_list17_t,labels=answers)\n",
    "plt.title('2017')\n",
    "plt.subplot(2,4,3)\n",
    "plt.pie(pie_18_list18_t,labels=answers)\n",
    "plt.title('2018')\n",
    "plt.subplot(2,4,4)\n",
    "plt.pie(pie_18_list19_t,labels=answers)\n",
    "plt.title('2019')\n",
    "plt.subplot(2,4,5)\n",
    "plt.pie(pie_18_list16_n,labels=answers)\n",
    "plt.title('2016')\n",
    "plt.subplot(2,4,6)\n",
    "plt.pie(pie_18_list17_n,labels=answers)\n",
    "plt.title('2017')\n",
    "plt.subplot(2,4,7)\n",
    "plt.pie(pie_18_list18_n,labels=answers)\n",
    "plt.title('2018')\n",
    "plt.subplot(2,4,8)\n",
    "plt.pie(pie_18_list19_n,labels=answers)\n",
    "plt.title('2019')\n",
    "plt.tight_layout()\n",
    "\n",
    "#df = px.data.tips()\n",
    "#fig1 = px.pie(df,color_discrete_sequence=px.colors.sequential.RdBu)\n",
    "#fig1.show()"
   ]
  },
  {
   "cell_type": "code",
   "execution_count": 97,
   "metadata": {},
   "outputs": [
    {
     "data": {
      "text/plain": [
       "Text(0.5, 1.0, 'Would you feel comfortable discussing a mental health issue with your coworkers? (Over time)')"
      ]
     },
     "execution_count": 97,
     "metadata": {},
     "output_type": "execute_result"
    },
    {
     "data": {
      "image/png": "[encoded data removed]",
      "text/plain": [
       "<Figure size 432x288 with 1 Axes>"
      ]
     },
     "metadata": {},
     "output_type": "display_data"
    }
   ],
   "source": [
    "plt.plot(years,q_18_list_nontech)\n",
    "plt.plot(years,q_18_list_tech)\n",
    "plt.title('Would you feel comfortable discussing a mental health issue with your coworkers? (Over time)')"
   ]
  },
  {
   "cell_type": "code",
   "execution_count": 109,
   "metadata": {},
   "outputs": [
    {
     "name": "stdout",
     "output_type": "stream",
     "text": [
      "18.722466960352424\n",
      "24.822695035460992\n",
      "18.47826086956522\n",
      "Would you have felt more comfortable talking to your previous employer about your physical health or your mental health? Tech vs Non Tech\n"
     ]
    },
    {
     "data": {
      "image/png": "[encoded data removed]",
      "text/plain": [
       "<Figure size 432x288 with 6 Axes>"
      ]
     },
     "metadata": {},
     "output_type": "display_data"
    }
   ],
   "source": [
    "\n",
    "print(q_56(data_17))\n",
    "print(q_56(data_18))\n",
    "print(q_56(data_19))\n",
    "\n",
    "q_56_list_nontech = []\n",
    "q_56_list_tech = []\n",
    "\n",
    "#q_17_list.append(q_17(data_16.query('9 == 1',inplace=True)))\n",
    "\n",
    "q_56_list_nontech.append(q_56(data_17_n))\n",
    "q_56_list_nontech.append(q_56(data_18_n))\n",
    "q_56_list_nontech.append(q_56(data_19_n))\n",
    "\n",
    "\n",
    "q_56_list_tech.append(q_56(data_17_t))\n",
    "q_56_list_tech.append(q_56(data_18_t))\n",
    "q_56_list_tech.append(q_56(data_19_t))\n",
    "\n",
    "years = [2017,2018,2019]\n",
    "plt.plot(years,q_56_list_nontech)\n",
    "plt.plot(years,q_56_list_tech)\n",
    "\n",
    "\n",
    "pie_56_list17_t = pie_56(data_17_t)\n",
    "pie_56_list17_n = pie_56(data_17_n)\n",
    "pie_56_list18_t = pie_56(data_18_t)\n",
    "pie_56_list18_n = pie_56(data_18_n)\n",
    "pie_56_list19_t = pie_56(data_19_t)\n",
    "pie_56_list19_n = pie_56(data_19_n)\n",
    "answers = ['Mental health','Physical health','Same level']\n",
    "# referenced https://stackoverflow.com/questions/42818361/how-to-make-two-plots-side-by-side-using-python\n",
    "plt.title('Would you have felt more comfortable talking to your previous employer about your physical health or your mental health? Tech vs Non Tech')\n",
    "print('Would you have felt more comfortable talking to your previous employer about your physical health or your mental health? Tech vs Non Tech')\n",
    "\n",
    "plt.subplot(2,3,1)\n",
    "plt.pie(pie_56_list17_t,labels=answers)\n",
    "plt.title('2017')\n",
    "plt.subplot(2,3,2)\n",
    "plt.pie(pie_56_list18_t,labels=answers)\n",
    "plt.title('2018')\n",
    "plt.subplot(2,3,3)\n",
    "plt.pie(pie_56_list19_t,labels=answers)\n",
    "plt.title('2019')\n",
    "\n",
    "plt.subplot(2,3,4)\n",
    "plt.pie(pie_56_list17_n,labels=answers)\n",
    "plt.title('2017')\n",
    "plt.subplot(2,3,5)\n",
    "plt.pie(pie_56_list18_n,labels=answers)\n",
    "plt.title('2018')\n",
    "plt.subplot(2,3,6)\n",
    "plt.pie(pie_56_list19_n,labels=answers)\n",
    "plt.title('2019')\n",
    "plt.tight_layout()"
   ]
  },
  {
   "cell_type": "code",
   "execution_count": 110,
   "metadata": {},
   "outputs": [
    {
     "data": {
      "text/plain": [
       "[<matplotlib.lines.Line2D at 0x245c33cd3d0>]"
      ]
     },
     "execution_count": 110,
     "metadata": {},
     "output_type": "execute_result"
    },
    {
     "data": {
      "image/png": "[encoded data removed]",
      "text/plain": [
       "<Figure size 432x288 with 1 Axes>"
      ]
     },
     "metadata": {},
     "output_type": "display_data"
    }
   ],
   "source": [
    "plt.plot(years,q_56_list_tech)\n",
    "plt.plot(years,q_56_list_nontech)"
   ]
  },
  {
   "cell_type": "code",
   "execution_count": 112,
   "metadata": {},
   "outputs": [
    {
     "name": "stdout",
     "output_type": "stream",
     "text": [
      "39.81277533039648\n",
      "39.45035460992908\n",
      "40.625\n",
      "Overall, how well do you think the tech industry supports employees with mental health issues? Tech vs Non Tech\n"
     ]
    },
    {
     "data": {
      "image/png": "[encoded data removed]",
      "text/plain": [
       "<Figure size 432x288 with 6 Axes>"
      ]
     },
     "metadata": {},
     "output_type": "display_data"
    }
   ],
   "source": [
    "#print(q_72(data_16))\n",
    "print(q_72(data_17))\n",
    "print(q_72(data_18))\n",
    "print(q_72(data_19))\n",
    "\n",
    "\n",
    "q_72_list_nontech = []\n",
    "q_72_list_tech = []\n",
    "\n",
    "#q_17_list.append(q_17(data_16.query('9 == 1',inplace=True)))\n",
    "\n",
    "q_72_list_nontech.append(q_72(data_17_n))\n",
    "q_72_list_nontech.append(q_72(data_18_n))\n",
    "q_72_list_nontech.append(q_72(data_19_n))\n",
    "\n",
    "\n",
    "q_72_list_tech.append(q_72(data_17_t))\n",
    "q_72_list_tech.append(q_72(data_18_t))\n",
    "q_72_list_tech.append(q_72(data_19_t))\n",
    "\n",
    "years = [2017,2018,2019]\n",
    "plt.plot(years,q_72_list_nontech)\n",
    "plt.plot(years,q_72_list_tech)\n",
    "\n",
    "\n",
    "pie_72_list17_t = pie_72(data_17_t)\n",
    "pie_72_list17_n = pie_72(data_17_n)\n",
    "pie_72_list18_t = pie_72(data_18_t)\n",
    "pie_72_list18_n = pie_72(data_18_n)\n",
    "pie_72_list19_t = pie_72(data_19_t)\n",
    "pie_72_list19_n = pie_72(data_19_n)\n",
    "answers = [1,2,3,4,5]\n",
    "# referenced https://stackoverflow.com/questions/42818361/how-to-make-two-plots-side-by-side-using-python\n",
    "plt.title('Overall, how well do you think the tech industry supports employees with mental health issues? Tech vs Non Tech')\n",
    "print('Overall, how well do you think the tech industry supports employees with mental health issues? Tech vs Non Tech')\n",
    "\n",
    "plt.subplot(2,3,1)\n",
    "plt.pie(pie_72_list17_t,labels=answers)\n",
    "plt.title('2017')\n",
    "plt.subplot(2,3,2)\n",
    "plt.pie(pie_72_list18_t,labels=answers)\n",
    "plt.title('2018')\n",
    "plt.subplot(2,3,3)\n",
    "plt.pie(pie_72_list19_t,labels=answers)\n",
    "plt.title('2019')\n",
    "\n",
    "plt.subplot(2,3,4)\n",
    "plt.pie(pie_72_list17_n,labels=answers)\n",
    "plt.title('2017')\n",
    "plt.subplot(2,3,5)\n",
    "plt.pie(pie_72_list18_n,labels=answers)\n",
    "plt.title('2018')\n",
    "plt.subplot(2,3,6)\n",
    "plt.pie(pie_72_list19_n,labels=answers)\n",
    "plt.title('2019')\n",
    "plt.tight_layout()\n"
   ]
  },
  {
   "cell_type": "code",
   "execution_count": 113,
   "metadata": {},
   "outputs": [
    {
     "data": {
      "text/plain": [
       "Text(0.5, 1.0, 'Overall, how well do you think the tech industry supports employees with mental health issues? (Over time)')"
      ]
     },
     "execution_count": 113,
     "metadata": {},
     "output_type": "execute_result"
    },
    {
     "data": {
      "image/png": "[encoded data removed]",
      "text/plain": [
       "<Figure size 432x288 with 1 Axes>"
      ]
     },
     "metadata": {},
     "output_type": "display_data"
    }
   ],
   "source": [
    "plt.plot(years,q_72_list_nontech)\n",
    "plt.plot(years,q_72_list_tech)\n",
    "plt.title('Overall, how well do you think the tech industry supports employees with mental health issues? (Over time)')"
   ]
  },
  {
   "cell_type": "code",
   "execution_count": 134,
   "metadata": {
    "scrolled": true
   },
   "outputs": [
    {
     "name": "stdout",
     "output_type": "stream",
     "text": [
      "Would you feel comfortable discussing a mental health issue with your direct supervisor(s)? Tech vs Non Tech\n"
     ]
    },
    {
     "data": {
      "image/png": "[encoded data removed]",
      "text/plain": [
       "<Figure size 432x288 with 8 Axes>"
      ]
     },
     "metadata": {},
     "output_type": "display_data"
    }
   ],
   "source": [
    "#print(q_16(data_16))\n",
    "#print(q_16(data_17))\n",
    "#print(q_16(data_18))\n",
    "#print(q_16(data_19))\n",
    "\n",
    "q_16_list_nontech = []\n",
    "q_16_list_tech = []\n",
    "\n",
    "#q_17_list.append(q_17(data_16.query('9 == 1',inplace=True)))\n",
    "q_16_list_nontech.append(q_16(data_16_n))\n",
    "q_16_list_nontech.append(q_16(data_17_n))\n",
    "q_16_list_nontech.append(q_16(data_18_n))\n",
    "q_16_list_nontech.append(q_16(data_19_n))\n",
    "\n",
    "q_16_list_tech.append(q_16(data_16_t))\n",
    "q_16_list_tech.append(q_16(data_17_t))\n",
    "q_16_list_tech.append(q_16(data_18_t))\n",
    "q_16_list_tech.append(q_16(data_19_t))\n",
    "\n",
    "years = [2016,2017,2018,2019]\n",
    "plt.plot(years,q_16_list_nontech)\n",
    "plt.plot(years,q_16_list_tech)\n",
    "\n",
    "pie_16_list16_t = pie_16(data_16_t)\n",
    "pie_16_list16_n = pie_16(data_16_n)\n",
    "pie_16_list17_t = pie_16(data_17_t)\n",
    "pie_16_list17_n = pie_16(data_17_n)\n",
    "pie_16_list18_t = pie_16(data_18_t)\n",
    "pie_16_list18_n = pie_16(data_18_n)\n",
    "pie_16_list19_t = pie_16(data_19_t)\n",
    "pie_16_list19_n = pie_16(data_19_n)\n",
    "answers = ['Yes','Maybe','No']\n",
    "# referenced https://stackoverflow.com/questions/42818361/how-to-make-two-plots-side-by-side-using-python\n",
    "plt.title('Would you feel comfortable discussing a mental health issue with your direct supervisor(s)?')\n",
    "print('Would you feel comfortable discussing a mental health issue with your direct supervisor(s)? Tech vs Non Tech')\n",
    "plt.subplot(2,4,1)\n",
    "plt.pie(pie_16_list16_t,labels=answers)\n",
    "plt.title('2016')\n",
    "plt.subplot(2,4,2)\n",
    "plt.pie(pie_16_list17_t,labels=answers)\n",
    "plt.title('2017')\n",
    "plt.subplot(2,4,3)\n",
    "plt.pie(pie_16_list18_t,labels=answers)\n",
    "plt.title('2018')\n",
    "plt.subplot(2,4,4)\n",
    "plt.pie(pie_16_list19_t,labels=answers)\n",
    "plt.title('2019')\n",
    "plt.subplot(2,4,5)\n",
    "plt.pie(pie_16_list16_n,labels=answers)\n",
    "plt.title('2016')\n",
    "plt.subplot(2,4,6)\n",
    "plt.pie(pie_16_list17_n,labels=answers)\n",
    "plt.title('2017')\n",
    "plt.subplot(2,4,7)\n",
    "plt.pie(pie_16_list18_n,labels=answers)\n",
    "plt.title('2018')\n",
    "plt.subplot(2,4,8)\n",
    "plt.pie(pie_16_list19_n,labels=answers)\n",
    "plt.title('2019')\n",
    "plt.tight_layout()"
   ]
  },
  {
   "cell_type": "code",
   "execution_count": 135,
   "metadata": {},
   "outputs": [
    {
     "data": {
      "application/vnd.plotly.v1+json": {
       "config": {
        "plotlyServerURL": "https://plot.ly"
       },
       "data": [
        {
         "domain": {
          "x": [
           0,
           1
          ],
          "y": [
           0,
           1
          ]
         },
         "hovertemplate": "16=%{label}<extra></extra>",
         "labels": [
          "Yes",
          "Yes",
          "I don't know",
          "Yes",
          "I don't know",
          "No",
          "I don't know",
          "No",
          "I don't know",
          "I don't know",
          "Yes",
          "I don't know",
          "Yes",
          "No",
          "Yes",
          "No",
          "Yes",
          "No",
          "No",
          "I don't know",
          "Yes",
          "No",
          "I don't know",
          "I don't know",
          "I don't know",
          "No",
          "I don't know",
          "Yes",
          "Yes",
          "I don't know",
          "Yes",
          "I don't know",
          "Yes",
          "No",
          "No",
          "Yes",
          "No",
          "No",
          "No",
          "No",
          "Yes",
          "Yes",
          "Yes",
          "Yes",
          "No",
          "I don't know",
          "Yes",
          "Yes",
          "Yes",
          "Yes",
          "Yes",
          "I don't know",
          "No",
          "Yes",
          "I don't know",
          "No",
          "Yes",
          "No",
          "I don't know",
          "No",
          "I don't know",
          "No",
          "No",
          "Yes",
          "No",
          "No",
          "I don't know",
          "Yes",
          "Yes",
          "Yes",
          "No",
          "Yes",
          "No",
          "I don't know",
          "I don't know",
          "I don't know",
          "No",
          "Yes",
          "I don't know",
          "Yes",
          "No",
          "No",
          "Yes",
          "No",
          "Yes",
          "I don't know",
          "No",
          "I don't know",
          "No",
          "Yes",
          "I don't know",
          "No",
          "I don't know",
          "I don't know",
          "I don't know",
          "I don't know",
          "I don't know",
          "Yes",
          "Yes",
          "Yes",
          "Yes",
          "I don't know",
          "Yes",
          "No",
          "Yes",
          "Yes",
          "I don't know",
          "Yes",
          "I don't know",
          "Yes",
          "No",
          "No",
          "Yes",
          "Yes",
          "Yes",
          "No",
          "Yes",
          "Yes",
          "I don't know",
          "Yes",
          "No",
          "No",
          "I don't know",
          "No",
          "No",
          "Yes",
          "Yes",
          "I don't know",
          "No",
          "Yes",
          "I don't know",
          "I don't know",
          "Yes",
          "Yes",
          "No",
          "No",
          "Yes",
          "No",
          "Yes",
          "I don't know",
          "Yes",
          "Yes",
          "I don't know",
          "Yes",
          "I don't know",
          "No",
          "No",
          "No",
          "No",
          "I don't know",
          "No",
          "No",
          "Yes",
          "I don't know",
          "Yes",
          "No",
          "No",
          "No",
          "No",
          "No",
          "Yes",
          "No",
          "I don't know",
          "Yes",
          "I don't know",
          "No",
          "Yes",
          "Yes",
          "I don't know",
          "Yes",
          "No",
          "Yes",
          "Yes",
          "Yes",
          "No",
          "Yes",
          "I don't know",
          "I don't know",
          "I don't know",
          "I don't know",
          "No",
          "I don't know",
          "No",
          "Yes"
         ],
         "legendgroup": "",
         "name": "",
         "showlegend": true,
         "type": "pie"
        }
       ],
       "layout": {
        "legend": {
         "tracegroupgap": 0
        },
        "template": {
         "data": {
          "bar": [
           {
            "error_x": {
             "color": "#2a3f5f"
            },
            "error_y": {
             "color": "#2a3f5f"
            },
            "marker": {
             "line": {
              "color": "#E5ECF6",
              "width": 0.5
             }
            },
            "type": "bar"
           }
          ],
          "barpolar": [
           {
            "marker": {
             "line": {
              "color": "#E5ECF6",
              "width": 0.5
             }
            },
            "type": "barpolar"
           }
          ],
          "carpet": [
           {
            "aaxis": {
             "endlinecolor": "#2a3f5f",
             "gridcolor": "white",
             "linecolor": "white",
             "minorgridcolor": "white",
             "startlinecolor": "#2a3f5f"
            },
            "baxis": {
             "endlinecolor": "#2a3f5f",
             "gridcolor": "white",
             "linecolor": "white",
             "minorgridcolor": "white",
             "startlinecolor": "#2a3f5f"
            },
            "type": "carpet"
           }
          ],
          "choropleth": [
           {
            "colorbar": {
             "outlinewidth": 0,
             "ticks": ""
            },
            "type": "choropleth"
           }
          ],
          "contour": [
           {
            "colorbar": {
             "outlinewidth": 0,
             "ticks": ""
            },
            "colorscale": [
             [
              0,
              "#0d0887"
             ],
             [
              0.1111111111111111,
              "#46039f"
             ],
             [
              0.2222222222222222,
              "#7201a8"
             ],
             [
              0.3333333333333333,
              "#9c179e"
             ],
             [
              0.4444444444444444,
              "#bd3786"
             ],
             [
              0.5555555555555556,
              "#d8576b"
             ],
             [
              0.6666666666666666,
              "#ed7953"
             ],
             [
              0.7777777777777778,
              "#fb9f3a"
             ],
             [
              0.8888888888888888,
              "#fdca26"
             ],
             [
              1,
              "#f0f921"
             ]
            ],
            "type": "contour"
           }
          ],
          "contourcarpet": [
           {
            "colorbar": {
             "outlinewidth": 0,
             "ticks": ""
            },
            "type": "contourcarpet"
           }
          ],
          "heatmap": [
           {
            "colorbar": {
             "outlinewidth": 0,
             "ticks": ""
            },
            "colorscale": [
             [
              0,
              "#0d0887"
             ],
             [
              0.1111111111111111,
              "#46039f"
             ],
             [
              0.2222222222222222,
              "#7201a8"
             ],
             [
              0.3333333333333333,
              "#9c179e"
             ],
             [
              0.4444444444444444,
              "#bd3786"
             ],
             [
              0.5555555555555556,
              "#d8576b"
             ],
             [
              0.6666666666666666,
              "#ed7953"
             ],
             [
              0.7777777777777778,
              "#fb9f3a"
             ],
             [
              0.8888888888888888,
              "#fdca26"
             ],
             [
              1,
              "#f0f921"
             ]
            ],
            "type": "heatmap"
           }
          ],
          "heatmapgl": [
           {
            "colorbar": {
             "outlinewidth": 0,
             "ticks": ""
            },
            "colorscale": [
             [
              0,
              "#0d0887"
             ],
             [
              0.1111111111111111,
              "#46039f"
             ],
             [
              0.2222222222222222,
              "#7201a8"
             ],
             [
              0.3333333333333333,
              "#9c179e"
             ],
             [
              0.4444444444444444,
              "#bd3786"
             ],
             [
              0.5555555555555556,
              "#d8576b"
             ],
             [
              0.6666666666666666,
              "#ed7953"
             ],
             [
              0.7777777777777778,
              "#fb9f3a"
             ],
             [
              0.8888888888888888,
              "#fdca26"
             ],
             [
              1,
              "#f0f921"
             ]
            ],
            "type": "heatmapgl"
           }
          ],
          "histogram": [
           {
            "marker": {
             "colorbar": {
              "outlinewidth": 0,
              "ticks": ""
             }
            },
            "type": "histogram"
           }
          ],
          "histogram2d": [
           {
            "colorbar": {
             "outlinewidth": 0,
             "ticks": ""
            },
            "colorscale": [
             [
              0,
              "#0d0887"
             ],
             [
              0.1111111111111111,
              "#46039f"
             ],
             [
              0.2222222222222222,
              "#7201a8"
             ],
             [
              0.3333333333333333,
              "#9c179e"
             ],
             [
              0.4444444444444444,
              "#bd3786"
             ],
             [
              0.5555555555555556,
              "#d8576b"
             ],
             [
              0.6666666666666666,
              "#ed7953"
             ],
             [
              0.7777777777777778,
              "#fb9f3a"
             ],
             [
              0.8888888888888888,
              "#fdca26"
             ],
             [
              1,
              "#f0f921"
             ]
            ],
            "type": "histogram2d"
           }
          ],
          "histogram2dcontour": [
           {
            "colorbar": {
             "outlinewidth": 0,
             "ticks": ""
            },
            "colorscale": [
             [
              0,
              "#0d0887"
             ],
             [
              0.1111111111111111,
              "#46039f"
             ],
             [
              0.2222222222222222,
              "#7201a8"
             ],
             [
              0.3333333333333333,
              "#9c179e"
             ],
             [
              0.4444444444444444,
              "#bd3786"
             ],
             [
              0.5555555555555556,
              "#d8576b"
             ],
             [
              0.6666666666666666,
              "#ed7953"
             ],
             [
              0.7777777777777778,
              "#fb9f3a"
             ],
             [
              0.8888888888888888,
              "#fdca26"
             ],
             [
              1,
              "#f0f921"
             ]
            ],
            "type": "histogram2dcontour"
           }
          ],
          "mesh3d": [
           {
            "colorbar": {
             "outlinewidth": 0,
             "ticks": ""
            },
            "type": "mesh3d"
           }
          ],
          "parcoords": [
           {
            "line": {
             "colorbar": {
              "outlinewidth": 0,
              "ticks": ""
             }
            },
            "type": "parcoords"
           }
          ],
          "pie": [
           {
            "automargin": true,
            "type": "pie"
           }
          ],
          "scatter": [
           {
            "marker": {
             "colorbar": {
              "outlinewidth": 0,
              "ticks": ""
             }
            },
            "type": "scatter"
           }
          ],
          "scatter3d": [
           {
            "line": {
             "colorbar": {
              "outlinewidth": 0,
              "ticks": ""
             }
            },
            "marker": {
             "colorbar": {
              "outlinewidth": 0,
              "ticks": ""
             }
            },
            "type": "scatter3d"
           }
          ],
          "scattercarpet": [
           {
            "marker": {
             "colorbar": {
              "outlinewidth": 0,
              "ticks": ""
             }
            },
            "type": "scattercarpet"
           }
          ],
          "scattergeo": [
           {
            "marker": {
             "colorbar": {
              "outlinewidth": 0,
              "ticks": ""
             }
            },
            "type": "scattergeo"
           }
          ],
          "scattergl": [
           {
            "marker": {
             "colorbar": {
              "outlinewidth": 0,
              "ticks": ""
             }
            },
            "type": "scattergl"
           }
          ],
          "scattermapbox": [
           {
            "marker": {
             "colorbar": {
              "outlinewidth": 0,
              "ticks": ""
             }
            },
            "type": "scattermapbox"
           }
          ],
          "scatterpolar": [
           {
            "marker": {
             "colorbar": {
              "outlinewidth": 0,
              "ticks": ""
             }
            },
            "type": "scatterpolar"
           }
          ],
          "scatterpolargl": [
           {
            "marker": {
             "colorbar": {
              "outlinewidth": 0,
              "ticks": ""
             }
            },
            "type": "scatterpolargl"
           }
          ],
          "scatterternary": [
           {
            "marker": {
             "colorbar": {
              "outlinewidth": 0,
              "ticks": ""
             }
            },
            "type": "scatterternary"
           }
          ],
          "surface": [
           {
            "colorbar": {
             "outlinewidth": 0,
             "ticks": ""
            },
            "colorscale": [
             [
              0,
              "#0d0887"
             ],
             [
              0.1111111111111111,
              "#46039f"
             ],
             [
              0.2222222222222222,
              "#7201a8"
             ],
             [
              0.3333333333333333,
              "#9c179e"
             ],
             [
              0.4444444444444444,
              "#bd3786"
             ],
             [
              0.5555555555555556,
              "#d8576b"
             ],
             [
              0.6666666666666666,
              "#ed7953"
             ],
             [
              0.7777777777777778,
              "#fb9f3a"
             ],
             [
              0.8888888888888888,
              "#fdca26"
             ],
             [
              1,
              "#f0f921"
             ]
            ],
            "type": "surface"
           }
          ],
          "table": [
           {
            "cells": {
             "fill": {
              "color": "#EBF0F8"
             },
             "line": {
              "color": "white"
             }
            },
            "header": {
             "fill": {
              "color": "#C8D4E3"
             },
             "line": {
              "color": "white"
             }
            },
            "type": "table"
           }
          ]
         },
         "layout": {
          "annotationdefaults": {
           "arrowcolor": "#2a3f5f",
           "arrowhead": 0,
           "arrowwidth": 1
          },
          "coloraxis": {
           "colorbar": {
            "outlinewidth": 0,
            "ticks": ""
           }
          },
          "colorscale": {
           "diverging": [
            [
             0,
             "#8e0152"
            ],
            [
             0.1,
             "#c51b7d"
            ],
            [
             0.2,
             "#de77ae"
            ],
            [
             0.3,
             "#f1b6da"
            ],
            [
             0.4,
             "#fde0ef"
            ],
            [
             0.5,
             "#f7f7f7"
            ],
            [
             0.6,
             "#e6f5d0"
            ],
            [
             0.7,
             "#b8e186"
            ],
            [
             0.8,
             "#7fbc41"
            ],
            [
             0.9,
             "#4d9221"
            ],
            [
             1,
             "#276419"
            ]
           ],
           "sequential": [
            [
             0,
             "#0d0887"
            ],
            [
             0.1111111111111111,
             "#46039f"
            ],
            [
             0.2222222222222222,
             "#7201a8"
            ],
            [
             0.3333333333333333,
             "#9c179e"
            ],
            [
             0.4444444444444444,
             "#bd3786"
            ],
            [
             0.5555555555555556,
             "#d8576b"
            ],
            [
             0.6666666666666666,
             "#ed7953"
            ],
            [
             0.7777777777777778,
             "#fb9f3a"
            ],
            [
             0.8888888888888888,
             "#fdca26"
            ],
            [
             1,
             "#f0f921"
            ]
           ],
           "sequentialminus": [
            [
             0,
             "#0d0887"
            ],
            [
             0.1111111111111111,
             "#46039f"
            ],
            [
             0.2222222222222222,
             "#7201a8"
            ],
            [
             0.3333333333333333,
             "#9c179e"
            ],
            [
             0.4444444444444444,
             "#bd3786"
            ],
            [
             0.5555555555555556,
             "#d8576b"
            ],
            [
             0.6666666666666666,
             "#ed7953"
            ],
            [
             0.7777777777777778,
             "#fb9f3a"
            ],
            [
             0.8888888888888888,
             "#fdca26"
            ],
            [
             1,
             "#f0f921"
            ]
           ]
          },
          "colorway": [
           "#636efa",
           "#EF553B",
           "#00cc96",
           "#ab63fa",
           "#FFA15A",
           "#19d3f3",
           "#FF6692",
           "#B6E880",
           "#FF97FF",
           "#FECB52"
          ],
          "font": {
           "color": "#2a3f5f"
          },
          "geo": {
           "bgcolor": "white",
           "lakecolor": "white",
           "landcolor": "#E5ECF6",
           "showlakes": true,
           "showland": true,
           "subunitcolor": "white"
          },
          "hoverlabel": {
           "align": "left"
          },
          "hovermode": "closest",
          "mapbox": {
           "style": "light"
          },
          "paper_bgcolor": "white",
          "plot_bgcolor": "#E5ECF6",
          "polar": {
           "angularaxis": {
            "gridcolor": "white",
            "linecolor": "white",
            "ticks": ""
           },
           "bgcolor": "#E5ECF6",
           "radialaxis": {
            "gridcolor": "white",
            "linecolor": "white",
            "ticks": ""
           }
          },
          "scene": {
           "xaxis": {
            "backgroundcolor": "#E5ECF6",
            "gridcolor": "white",
            "gridwidth": 2,
            "linecolor": "white",
            "showbackground": true,
            "ticks": "",
            "zerolinecolor": "white"
           },
           "yaxis": {
            "backgroundcolor": "#E5ECF6",
            "gridcolor": "white",
            "gridwidth": 2,
            "linecolor": "white",
            "showbackground": true,
            "ticks": "",
            "zerolinecolor": "white"
           },
           "zaxis": {
            "backgroundcolor": "#E5ECF6",
            "gridcolor": "white",
            "gridwidth": 2,
            "linecolor": "white",
            "showbackground": true,
            "ticks": "",
            "zerolinecolor": "white"
           }
          },
          "shapedefaults": {
           "line": {
            "color": "#2a3f5f"
           }
          },
          "ternary": {
           "aaxis": {
            "gridcolor": "white",
            "linecolor": "white",
            "ticks": ""
           },
           "baxis": {
            "gridcolor": "white",
            "linecolor": "white",
            "ticks": ""
           },
           "bgcolor": "#E5ECF6",
           "caxis": {
            "gridcolor": "white",
            "linecolor": "white",
            "ticks": ""
           }
          },
          "title": {
           "x": 0.05
          },
          "xaxis": {
           "automargin": true,
           "gridcolor": "white",
           "linecolor": "white",
           "ticks": "",
           "title": {
            "standoff": 15
           },
           "zerolinecolor": "white",
           "zerolinewidth": 2
          },
          "yaxis": {
           "automargin": true,
           "gridcolor": "white",
           "linecolor": "white",
           "ticks": "",
           "title": {
            "standoff": 15
           },
           "zerolinecolor": "white",
           "zerolinewidth": 2
          }
         }
        },
        "title": {
         "text": "2019"
        }
       }
      },
      "text/html": [
       "<div>                            <div id=\"0accc4ea-a5c5-44eb-8075-c00d3a956dea\" class=\"plotly-graph-div\" style=\"height:525px; width:100%;\"></div>            <script type=\"text/javascript\">                require([\"plotly\"], function(Plotly) {                    window.PLOTLYENV=window.PLOTLYENV || {};                                    if (document.getElementById(\"0accc4ea-a5c5-44eb-8075-c00d3a956dea\")) {                    Plotly.newPlot(                        \"0accc4ea-a5c5-44eb-8075-c00d3a956dea\",                        [{\"domain\": {\"x\": [0.0, 1.0], \"y\": [0.0, 1.0]}, \"hovertemplate\": \"16=%{label}<extra></extra>\", \"labels\": [\"Yes\", \"Yes\", \"I don't know\", \"Yes\", \"I don't know\", \"No\", \"I don't know\", \"No\", \"I don't know\", \"I don't know\", \"Yes\", \"I don't know\", \"Yes\", \"No\", \"Yes\", \"No\", \"Yes\", \"No\", \"No\", \"I don't know\", \"Yes\", \"No\", \"I don't know\", \"I don't know\", \"I don't know\", \"No\", \"I don't know\", \"Yes\", \"Yes\", \"I don't know\", \"Yes\", \"I don't know\", \"Yes\", \"No\", \"No\", \"Yes\", \"No\", \"No\", \"No\", \"No\", \"Yes\", \"Yes\", \"Yes\", \"Yes\", \"No\", \"I don't know\", \"Yes\", \"Yes\", \"Yes\", \"Yes\", \"Yes\", \"I don't know\", \"No\", \"Yes\", \"I don't know\", \"No\", \"Yes\", \"No\", \"I don't know\", \"No\", \"I don't know\", \"No\", \"No\", \"Yes\", \"No\", \"No\", \"I don't know\", \"Yes\", \"Yes\", \"Yes\", \"No\", \"Yes\", \"No\", \"I don't know\", \"I don't know\", \"I don't know\", \"No\", \"Yes\", \"I don't know\", \"Yes\", \"No\", \"No\", \"Yes\", \"No\", \"Yes\", \"I don't know\", \"No\", \"I don't know\", \"No\", \"Yes\", \"I don't know\", \"No\", \"I don't know\", \"I don't know\", \"I don't know\", \"I don't know\", \"I don't know\", \"Yes\", \"Yes\", \"Yes\", \"Yes\", \"I don't know\", \"Yes\", \"No\", \"Yes\", \"Yes\", \"I don't know\", \"Yes\", \"I don't know\", \"Yes\", \"No\", \"No\", \"Yes\", \"Yes\", \"Yes\", \"No\", \"Yes\", \"Yes\", \"I don't know\", \"Yes\", \"No\", \"No\", \"I don't know\", \"No\", \"No\", \"Yes\", \"Yes\", \"I don't know\", \"No\", \"Yes\", \"I don't know\", \"I don't know\", \"Yes\", \"Yes\", \"No\", \"No\", \"Yes\", \"No\", \"Yes\", \"I don't know\", \"Yes\", \"Yes\", \"I don't know\", \"Yes\", \"I don't know\", \"No\", \"No\", \"No\", \"No\", \"I don't know\", \"No\", \"No\", \"Yes\", \"I don't know\", \"Yes\", \"No\", \"No\", \"No\", \"No\", \"No\", \"Yes\", \"No\", \"I don't know\", \"Yes\", \"I don't know\", \"No\", \"Yes\", \"Yes\", \"I don't know\", \"Yes\", \"No\", \"Yes\", \"Yes\", \"Yes\", \"No\", \"Yes\", \"I don't know\", \"I don't know\", \"I don't know\", \"I don't know\", \"No\", \"I don't know\", \"No\", \"Yes\"], \"legendgroup\": \"\", \"name\": \"\", \"showlegend\": true, \"type\": \"pie\"}],                        {\"legend\": {\"tracegroupgap\": 0}, \"template\": {\"data\": {\"bar\": [{\"error_x\": {\"color\": \"#2a3f5f\"}, \"error_y\": {\"color\": \"#2a3f5f\"}, \"marker\": {\"line\": {\"color\": \"#E5ECF6\", \"width\": 0.5}}, \"type\": \"bar\"}], \"barpolar\": [{\"marker\": {\"line\": {\"color\": \"#E5ECF6\", \"width\": 0.5}}, \"type\": \"barpolar\"}], \"carpet\": [{\"aaxis\": {\"endlinecolor\": \"#2a3f5f\", \"gridcolor\": \"white\", \"linecolor\": \"white\", \"minorgridcolor\": \"white\", \"startlinecolor\": \"#2a3f5f\"}, \"baxis\": {\"endlinecolor\": \"#2a3f5f\", \"gridcolor\": \"white\", \"linecolor\": \"white\", \"minorgridcolor\": \"white\", \"startlinecolor\": \"#2a3f5f\"}, \"type\": \"carpet\"}], \"choropleth\": [{\"colorbar\": {\"outlinewidth\": 0, \"ticks\": \"\"}, \"type\": \"choropleth\"}], \"contour\": [{\"colorbar\": {\"outlinewidth\": 0, \"ticks\": \"\"}, \"colorscale\": [[0.0, \"#0d0887\"], [0.1111111111111111, \"#46039f\"], [0.2222222222222222, \"#7201a8\"], [0.3333333333333333, \"#9c179e\"], [0.4444444444444444, \"#bd3786\"], [0.5555555555555556, \"#d8576b\"], [0.6666666666666666, \"#ed7953\"], [0.7777777777777778, \"#fb9f3a\"], [0.8888888888888888, \"#fdca26\"], [1.0, \"#f0f921\"]], \"type\": \"contour\"}], \"contourcarpet\": [{\"colorbar\": {\"outlinewidth\": 0, \"ticks\": \"\"}, \"type\": \"contourcarpet\"}], \"heatmap\": [{\"colorbar\": {\"outlinewidth\": 0, \"ticks\": \"\"}, \"colorscale\": [[0.0, \"#0d0887\"], [0.1111111111111111, \"#46039f\"], [0.2222222222222222, \"#7201a8\"], [0.3333333333333333, \"#9c179e\"], [0.4444444444444444, \"#bd3786\"], [0.5555555555555556, \"#d8576b\"], [0.6666666666666666, \"#ed7953\"], [0.7777777777777778, \"#fb9f3a\"], [0.8888888888888888, \"#fdca26\"], [1.0, \"#f0f921\"]], \"type\": \"heatmap\"}], \"heatmapgl\": [{\"colorbar\": {\"outlinewidth\": 0, \"ticks\": \"\"}, \"colorscale\": [[0.0, \"#0d0887\"], [0.1111111111111111, \"#46039f\"], [0.2222222222222222, \"#7201a8\"], [0.3333333333333333, \"#9c179e\"], [0.4444444444444444, \"#bd3786\"], [0.5555555555555556, \"#d8576b\"], [0.6666666666666666, \"#ed7953\"], [0.7777777777777778, \"#fb9f3a\"], [0.8888888888888888, \"#fdca26\"], [1.0, \"#f0f921\"]], \"type\": \"heatmapgl\"}], \"histogram\": [{\"marker\": {\"colorbar\": {\"outlinewidth\": 0, \"ticks\": \"\"}}, \"type\": \"histogram\"}], \"histogram2d\": [{\"colorbar\": {\"outlinewidth\": 0, \"ticks\": \"\"}, \"colorscale\": [[0.0, \"#0d0887\"], [0.1111111111111111, \"#46039f\"], [0.2222222222222222, \"#7201a8\"], [0.3333333333333333, \"#9c179e\"], [0.4444444444444444, \"#bd3786\"], [0.5555555555555556, \"#d8576b\"], [0.6666666666666666, \"#ed7953\"], [0.7777777777777778, \"#fb9f3a\"], [0.8888888888888888, \"#fdca26\"], [1.0, \"#f0f921\"]], \"type\": \"histogram2d\"}], \"histogram2dcontour\": [{\"colorbar\": {\"outlinewidth\": 0, \"ticks\": \"\"}, \"colorscale\": [[0.0, \"#0d0887\"], [0.1111111111111111, \"#46039f\"], [0.2222222222222222, \"#7201a8\"], [0.3333333333333333, \"#9c179e\"], [0.4444444444444444, \"#bd3786\"], [0.5555555555555556, \"#d8576b\"], [0.6666666666666666, \"#ed7953\"], [0.7777777777777778, \"#fb9f3a\"], [0.8888888888888888, \"#fdca26\"], [1.0, \"#f0f921\"]], \"type\": \"histogram2dcontour\"}], \"mesh3d\": [{\"colorbar\": {\"outlinewidth\": 0, \"ticks\": \"\"}, \"type\": \"mesh3d\"}], \"parcoords\": [{\"line\": {\"colorbar\": {\"outlinewidth\": 0, \"ticks\": \"\"}}, \"type\": \"parcoords\"}], \"pie\": [{\"automargin\": true, \"type\": \"pie\"}], \"scatter\": [{\"marker\": {\"colorbar\": {\"outlinewidth\": 0, \"ticks\": \"\"}}, \"type\": \"scatter\"}], \"scatter3d\": [{\"line\": {\"colorbar\": {\"outlinewidth\": 0, \"ticks\": \"\"}}, \"marker\": {\"colorbar\": {\"outlinewidth\": 0, \"ticks\": \"\"}}, \"type\": \"scatter3d\"}], \"scattercarpet\": [{\"marker\": {\"colorbar\": {\"outlinewidth\": 0, \"ticks\": \"\"}}, \"type\": \"scattercarpet\"}], \"scattergeo\": [{\"marker\": {\"colorbar\": {\"outlinewidth\": 0, \"ticks\": \"\"}}, \"type\": \"scattergeo\"}], \"scattergl\": [{\"marker\": {\"colorbar\": {\"outlinewidth\": 0, \"ticks\": \"\"}}, \"type\": \"scattergl\"}], \"scattermapbox\": [{\"marker\": {\"colorbar\": {\"outlinewidth\": 0, \"ticks\": \"\"}}, \"type\": \"scattermapbox\"}], \"scatterpolar\": [{\"marker\": {\"colorbar\": {\"outlinewidth\": 0, \"ticks\": \"\"}}, \"type\": \"scatterpolar\"}], \"scatterpolargl\": [{\"marker\": {\"colorbar\": {\"outlinewidth\": 0, \"ticks\": \"\"}}, \"type\": \"scatterpolargl\"}], \"scatterternary\": [{\"marker\": {\"colorbar\": {\"outlinewidth\": 0, \"ticks\": \"\"}}, \"type\": \"scatterternary\"}], \"surface\": [{\"colorbar\": {\"outlinewidth\": 0, \"ticks\": \"\"}, \"colorscale\": [[0.0, \"#0d0887\"], [0.1111111111111111, \"#46039f\"], [0.2222222222222222, \"#7201a8\"], [0.3333333333333333, \"#9c179e\"], [0.4444444444444444, \"#bd3786\"], [0.5555555555555556, \"#d8576b\"], [0.6666666666666666, \"#ed7953\"], [0.7777777777777778, \"#fb9f3a\"], [0.8888888888888888, \"#fdca26\"], [1.0, \"#f0f921\"]], \"type\": \"surface\"}], \"table\": [{\"cells\": {\"fill\": {\"color\": \"#EBF0F8\"}, \"line\": {\"color\": \"white\"}}, \"header\": {\"fill\": {\"color\": \"#C8D4E3\"}, \"line\": {\"color\": \"white\"}}, \"type\": \"table\"}]}, \"layout\": {\"annotationdefaults\": {\"arrowcolor\": \"#2a3f5f\", \"arrowhead\": 0, \"arrowwidth\": 1}, \"coloraxis\": {\"colorbar\": {\"outlinewidth\": 0, \"ticks\": \"\"}}, \"colorscale\": {\"diverging\": [[0, \"#8e0152\"], [0.1, \"#c51b7d\"], [0.2, \"#de77ae\"], [0.3, \"#f1b6da\"], [0.4, \"#fde0ef\"], [0.5, \"#f7f7f7\"], [0.6, \"#e6f5d0\"], [0.7, \"#b8e186\"], [0.8, \"#7fbc41\"], [0.9, \"#4d9221\"], [1, \"#276419\"]], \"sequential\": [[0.0, \"#0d0887\"], [0.1111111111111111, \"#46039f\"], [0.2222222222222222, \"#7201a8\"], [0.3333333333333333, \"#9c179e\"], [0.4444444444444444, \"#bd3786\"], [0.5555555555555556, \"#d8576b\"], [0.6666666666666666, \"#ed7953\"], [0.7777777777777778, \"#fb9f3a\"], [0.8888888888888888, \"#fdca26\"], [1.0, \"#f0f921\"]], \"sequentialminus\": [[0.0, \"#0d0887\"], [0.1111111111111111, \"#46039f\"], [0.2222222222222222, \"#7201a8\"], [0.3333333333333333, \"#9c179e\"], [0.4444444444444444, \"#bd3786\"], [0.5555555555555556, \"#d8576b\"], [0.6666666666666666, \"#ed7953\"], [0.7777777777777778, \"#fb9f3a\"], [0.8888888888888888, \"#fdca26\"], [1.0, \"#f0f921\"]]}, \"colorway\": [\"#636efa\", \"#EF553B\", \"#00cc96\", \"#ab63fa\", \"#FFA15A\", \"#19d3f3\", \"#FF6692\", \"#B6E880\", \"#FF97FF\", \"#FECB52\"], \"font\": {\"color\": \"#2a3f5f\"}, \"geo\": {\"bgcolor\": \"white\", \"lakecolor\": \"white\", \"landcolor\": \"#E5ECF6\", \"showlakes\": true, \"showland\": true, \"subunitcolor\": \"white\"}, \"hoverlabel\": {\"align\": \"left\"}, \"hovermode\": \"closest\", \"mapbox\": {\"style\": \"light\"}, \"paper_bgcolor\": \"white\", \"plot_bgcolor\": \"#E5ECF6\", \"polar\": {\"angularaxis\": {\"gridcolor\": \"white\", \"linecolor\": \"white\", \"ticks\": \"\"}, \"bgcolor\": \"#E5ECF6\", \"radialaxis\": {\"gridcolor\": \"white\", \"linecolor\": \"white\", \"ticks\": \"\"}}, \"scene\": {\"xaxis\": {\"backgroundcolor\": \"#E5ECF6\", \"gridcolor\": \"white\", \"gridwidth\": 2, \"linecolor\": \"white\", \"showbackground\": true, \"ticks\": \"\", \"zerolinecolor\": \"white\"}, \"yaxis\": {\"backgroundcolor\": \"#E5ECF6\", \"gridcolor\": \"white\", \"gridwidth\": 2, \"linecolor\": \"white\", \"showbackground\": true, \"ticks\": \"\", \"zerolinecolor\": \"white\"}, \"zaxis\": {\"backgroundcolor\": \"#E5ECF6\", \"gridcolor\": \"white\", \"gridwidth\": 2, \"linecolor\": \"white\", \"showbackground\": true, \"ticks\": \"\", \"zerolinecolor\": \"white\"}}, \"shapedefaults\": {\"line\": {\"color\": \"#2a3f5f\"}}, \"ternary\": {\"aaxis\": {\"gridcolor\": \"white\", \"linecolor\": \"white\", \"ticks\": \"\"}, \"baxis\": {\"gridcolor\": \"white\", \"linecolor\": \"white\", \"ticks\": \"\"}, \"bgcolor\": \"#E5ECF6\", \"caxis\": {\"gridcolor\": \"white\", \"linecolor\": \"white\", \"ticks\": \"\"}}, \"title\": {\"x\": 0.05}, \"xaxis\": {\"automargin\": true, \"gridcolor\": \"white\", \"linecolor\": \"white\", \"ticks\": \"\", \"title\": {\"standoff\": 15}, \"zerolinecolor\": \"white\", \"zerolinewidth\": 2}, \"yaxis\": {\"automargin\": true, \"gridcolor\": \"white\", \"linecolor\": \"white\", \"ticks\": \"\", \"title\": {\"standoff\": 15}, \"zerolinecolor\": \"white\", \"zerolinewidth\": 2}}}, \"title\": {\"text\": \"2019\"}},                        {\"responsive\": true}                    ).then(function(){\n",
       "                            \n",
       "var gd = document.getElementById('0accc4ea-a5c5-44eb-8075-c00d3a956dea');\n",
       "var x = new MutationObserver(function (mutations, observer) {{\n",
       "        var display = window.getComputedStyle(gd).display;\n",
       "        if (!display || display === 'none') {{\n",
       "            console.log([gd, 'removed!']);\n",
       "            Plotly.purge(gd);\n",
       "            observer.disconnect();\n",
       "        }}\n",
       "}});\n",
       "\n",
       "// Listen for the removal of the full notebook cells\n",
       "var notebookContainer = gd.closest('#notebook-container');\n",
       "if (notebookContainer) {{\n",
       "    x.observe(notebookContainer, {childList: true});\n",
       "}}\n",
       "\n",
       "// Listen for the clearing of the current output cell\n",
       "var outputEl = gd.closest('.output');\n",
       "if (outputEl) {{\n",
       "    x.observe(outputEl, {childList: true});\n",
       "}}\n",
       "\n",
       "                        })                };                });            </script>        </div>"
      ]
     },
     "metadata": {},
     "output_type": "display_data"
    }
   ],
   "source": [
    "from plotly.subplots import make_subplots\n",
    "fig = make_subplots(rows=2,cols=4)\n",
    "px.pie(data_16,names='16',title='2016')\n",
    "px.pie(data_17,names='16',title='2017')\n",
    "px.pie(data_18,names='16',title='2018')\n",
    "px.pie(data_19,names='16',title='2019')"
   ]
  },
  {
   "cell_type": "code",
   "execution_count": 136,
   "metadata": {
    "scrolled": true
   },
   "outputs": [
    {
     "data": {
      "text/plain": [
       "Text(0.5, 1.0, 'Does your employer offer resources to learn more about mental health disorders and options for seeking ')"
      ]
     },
     "execution_count": 136,
     "metadata": {},
     "output_type": "execute_result"
    },
    {
     "data": {
      "image/png": "[encoded data removed]",
      "text/plain": [
       "<Figure size 432x288 with 1 Axes>"
      ]
     },
     "metadata": {},
     "output_type": "display_data"
    }
   ],
   "source": [
    "plt.plot(years,q_16_list_nontech)\n",
    "plt.plot(years,q_16_list_tech)\n",
    "plt.title('Does your employer offer resources to learn more about mental health disorders and options for seeking ')"
   ]
  },
  {
   "cell_type": "code",
   "execution_count": 197,
   "metadata": {},
   "outputs": [],
   "source": [
    "def convert_56(data):\n",
    "    index = 0\n",
    "    index_list = data.index\n",
    "    for row in data['69']:\n",
    "        if row == 'Mental health':\n",
    "            data.replace(row,50,inplace=True)\n",
    "        elif row == 'Physical health':\n",
    "            data.replace(row,0,inplace=True)\n",
    "        elif row == 'Same level of comfort for each':\n",
    "            data.replace(row,100,inplace=True)\n",
    "        elif str(row) == 'nan':\n",
    "            data.drop(index=index_list[index],inplace=True)\n",
    "        index += 1\n",
    "    return data"
   ]
  },
  {
   "cell_type": "code",
   "execution_count": 198,
   "metadata": {},
   "outputs": [],
   "source": [
    "def convert_16(data):\n",
    "    index = 0\n",
    "    index_list = data.index\n",
    "    for row in data['16']:\n",
    "        if row == 'Yes':\n",
    "            data.replace(row,100,inplace=True)\n",
    "        elif row == 'I don\\'t know':\n",
    "            data.replace(row,50,inplace=True)\n",
    "        elif row == 'No':\n",
    "            data.replace(row,0,inplace=True)\n",
    "        elif str(row) == 'nan':\n",
    "            data.drop(index=index_list[index],inplace=True)\n",
    "        index += 1\n",
    "    return data"
   ]
  },
  {
   "cell_type": "code",
   "execution_count": 199,
   "metadata": {},
   "outputs": [],
   "source": [
    "def convert_17(data):\n",
    "    index = 0\n",
    "    index_list = data.index\n",
    "    for row in data['19']:\n",
    "        if row == 'Yes':\n",
    "            data.replace(row,100,inplace=True)\n",
    "        elif row == 'Maybe':\n",
    "            data.replace(row,50,inplace=True)\n",
    "        elif row == 'No':\n",
    "            data.replace(row,0,inplace=True)\n",
    "        elif str(row) == 'nan':\n",
    "            data.drop(index=index_list[index],inplace=True)\n",
    "        index += 1\n",
    "    return data"
   ]
  },
  {
   "cell_type": "code",
   "execution_count": 200,
   "metadata": {},
   "outputs": [],
   "source": [
    "def convert_18(data):\n",
    "    index = 0\n",
    "    index_list = data.index\n",
    "    for row in data['18']:\n",
    "        if row == 'Yes':\n",
    "            data.replace(row,100,inplace=True)\n",
    "        elif row == 'Maybe':\n",
    "            data.replace(row,50,inplace=True)\n",
    "        elif row == 'No':\n",
    "            data.replace(row,0,inplace=True)\n",
    "        elif str(row) == 'nan':\n",
    "            data.drop(index=index_list[index],inplace=True)\n",
    "        index += 1\n",
    "    return data"
   ]
  },
  {
   "cell_type": "code",
   "execution_count": 201,
   "metadata": {},
   "outputs": [],
   "source": [
    "def convert_72(data):\n",
    "    index = 0\n",
    "    index_list = data.index\n",
    "    for row in data['85']:\n",
    "        if row == 1:\n",
    "            data.replace(row,0,inplace=True)\n",
    "        elif row == 2:\n",
    "            data.replace(row,25,inplace=True)\n",
    "        elif row == 3:\n",
    "            data.replace(row,50,inplace=True)\n",
    "        elif row == 4:\n",
    "            data.replace(row,75,inplace=True)\n",
    "        elif row == 5:\n",
    "            data.replace(row,100,inplace=True)\n",
    "        elif str(row) == 'nan':\n",
    "            data.drop(index=index_list[index],inplace=True)\n",
    "        index += 1\n",
    "    return data"
   ]
  },
  {
   "cell_type": "code",
   "execution_count": 202,
   "metadata": {},
   "outputs": [],
   "source": [
    "\n",
    "data_17_t = convert_72(data_17_t)\n",
    "data_18_t = convert_72(data_18_t)\n",
    "data_19_t = convert_72(data_19_t)\n",
    "\n",
    "data_16_t = convert_16(data_16_t)\n",
    "data_17_t = convert_16(data_17_t)\n",
    "data_18_t = convert_16(data_18_t)\n",
    "data_19_t = convert_16(data_19_t)\n",
    "\n",
    "data_16_t = convert_17(data_16_t)\n",
    "data_17_t = convert_17(data_17_t)\n",
    "data_18_t = convert_17(data_18_t)\n",
    "data_19_t = convert_17(data_19_t)\n",
    "\n",
    "data_16_t = convert_18(data_16_t)\n",
    "data_17_t = convert_18(data_17_t)\n",
    "data_18_t = convert_18(data_18_t)\n",
    "data_19_t = convert_18(data_19_t)\n",
    "\n",
    "\n",
    "data_17_t = convert_56(data_17_t)\n",
    "data_18_t = convert_56(data_18_t)\n",
    "data_19_t = convert_56(data_19_t)\n"
   ]
  },
  {
   "cell_type": "code",
   "execution_count": 209,
   "metadata": {},
   "outputs": [
    {
     "data": {
      "text/plain": [
       "0.004316866088233784"
      ]
     },
     "execution_count": 209,
     "metadata": {},
     "output_type": "execute_result"
    }
   ],
   "source": [
    "from sklearn.linear_model import LinearRegression\n",
    "data_17_t = pd.DataFrame(data_17_t)\n",
    "#print(data_17_t.index)\n",
    "X = np.array(data_17_t['69']).reshape(-1,1)\n",
    "\n",
    "lin_reg = LinearRegression().fit(X,data_17_t['85'])\n",
    "lin_reg.score(X,data_17_t['85'])"
   ]
  },
  {
   "cell_type": "code",
   "execution_count": 210,
   "metadata": {},
   "outputs": [
    {
     "data": {
      "text/plain": [
       "0.05335696594748085"
      ]
     },
     "execution_count": 210,
     "metadata": {},
     "output_type": "execute_result"
    }
   ],
   "source": [
    "data_18_t = pd.DataFrame(data_18_t)\n",
    "#print(data_17_t.index)\n",
    "X = np.array(data_18_t['69']).reshape(-1,1)\n",
    "\n",
    "lin_reg = LinearRegression().fit(X,data_18_t['85'])\n",
    "lin_reg.score(X,data_18_t['85'])\n"
   ]
  },
  {
   "cell_type": "code",
   "execution_count": 212,
   "metadata": {},
   "outputs": [
    {
     "data": {
      "text/plain": [
       "0.001488488599249882"
      ]
     },
     "execution_count": 212,
     "metadata": {},
     "output_type": "execute_result"
    }
   ],
   "source": [
    "data_19_t = pd.DataFrame(data_19_t)\n",
    "#print(data_17_t.index)\n",
    "X = np.array(data_19_t['69']).reshape(-1,1)\n",
    "\n",
    "lin_reg = LinearRegression().fit(X,data_19_t['85'])\n",
    "lin_reg.score(X,data_19_t['85'])"
   ]
  },
  {
   "cell_type": "code",
   "execution_count": 213,
   "metadata": {},
   "outputs": [
    {
     "data": {
      "text/plain": [
       "0.00892958551337486"
      ]
     },
     "execution_count": 213,
     "metadata": {},
     "output_type": "execute_result"
    }
   ],
   "source": [
    "data_16_t = pd.DataFrame(data_16_t)\n",
    "#print(data_17_t.index)\n",
    "X = np.array(data_16_t['16']).reshape(-1,1)\n",
    "\n",
    "lin_reg = LinearRegression().fit(X,data_16_t['19'])\n",
    "lin_reg.score(X,data_16_t['19'])"
   ]
  },
  {
   "cell_type": "code",
   "execution_count": 214,
   "metadata": {},
   "outputs": [
    {
     "data": {
      "text/plain": [
       "0.014374420501350516"
      ]
     },
     "execution_count": 214,
     "metadata": {},
     "output_type": "execute_result"
    }
   ],
   "source": [
    "data_17_t = pd.DataFrame(data_17_t)\n",
    "#print(data_17_t.index)\n",
    "X = np.array(data_17_t['16']).reshape(-1,1)\n",
    "\n",
    "lin_reg = LinearRegression().fit(X,data_17_t['19'])\n",
    "lin_reg.score(X,data_17_t['19'])"
   ]
  },
  {
   "cell_type": "code",
   "execution_count": 215,
   "metadata": {},
   "outputs": [
    {
     "data": {
      "text/plain": [
       "0.08458050313496868"
      ]
     },
     "execution_count": 215,
     "metadata": {},
     "output_type": "execute_result"
    }
   ],
   "source": [
    "data_18_t = pd.DataFrame(data_18_t)\n",
    "#print(data_17_t.index)\n",
    "X = np.array(data_18_t['16']).reshape(-1,1)\n",
    "\n",
    "lin_reg = LinearRegression().fit(X,data_18_t['19'])\n",
    "lin_reg.score(X,data_18_t['19'])"
   ]
  },
  {
   "cell_type": "code",
   "execution_count": 216,
   "metadata": {},
   "outputs": [
    {
     "data": {
      "text/plain": [
       "0.023050935081947443"
      ]
     },
     "execution_count": 216,
     "metadata": {},
     "output_type": "execute_result"
    }
   ],
   "source": [
    "data_19_t = pd.DataFrame(data_19_t)\n",
    "#print(data_17_t.index)\n",
    "X = np.array(data_19_t['16']).reshape(-1,1)\n",
    "\n",
    "lin_reg = LinearRegression().fit(X,data_19_t['19'])\n",
    "lin_reg.score(X,data_19_t['19'])"
   ]
  },
  {
   "cell_type": "code",
   "execution_count": 217,
   "metadata": {},
   "outputs": [
    {
     "data": {
      "text/plain": [
       "0.42493349419909887"
      ]
     },
     "execution_count": 217,
     "metadata": {},
     "output_type": "execute_result"
    }
   ],
   "source": [
    "data_16_t = pd.DataFrame(data_16_t)\n",
    "#print(data_17_t.index)\n",
    "X = np.array(data_16_t['18']).reshape(-1,1)\n",
    "\n",
    "lin_reg = LinearRegression().fit(X,data_16_t['19'])\n",
    "lin_reg.score(X,data_16_t['19'])"
   ]
  },
  {
   "cell_type": "code",
   "execution_count": 218,
   "metadata": {},
   "outputs": [
    {
     "data": {
      "text/plain": [
       "0.16883852104068586"
      ]
     },
     "execution_count": 218,
     "metadata": {},
     "output_type": "execute_result"
    }
   ],
   "source": [
    "data_17_t = pd.DataFrame(data_17_t)\n",
    "#print(data_17_t.index)\n",
    "X = np.array(data_17_t['18']).reshape(-1,1)\n",
    "\n",
    "lin_reg = LinearRegression().fit(X,data_17_t['19'])\n",
    "lin_reg.score(X,data_17_t['19'])"
   ]
  },
  {
   "cell_type": "code",
   "execution_count": 219,
   "metadata": {},
   "outputs": [
    {
     "data": {
      "text/plain": [
       "0.13483604429128782"
      ]
     },
     "execution_count": 219,
     "metadata": {},
     "output_type": "execute_result"
    }
   ],
   "source": [
    "data_18_t = pd.DataFrame(data_18_t)\n",
    "#print(data_17_t.index)\n",
    "X = np.array(data_18_t['18']).reshape(-1,1)\n",
    "\n",
    "lin_reg = LinearRegression().fit(X,data_18_t['19'])\n",
    "lin_reg.score(X,data_18_t['19'])"
   ]
  },
  {
   "cell_type": "code",
   "execution_count": 220,
   "metadata": {},
   "outputs": [
    {
     "data": {
      "text/plain": [
       "0.1832977943663876"
      ]
     },
     "execution_count": 220,
     "metadata": {},
     "output_type": "execute_result"
    }
   ],
   "source": [
    "data_19_t = pd.DataFrame(data_19_t)\n",
    "#print(data_17_t.index)\n",
    "X = np.array(data_19_t['18']).reshape(-1,1)\n",
    "\n",
    "lin_reg = LinearRegression().fit(X,data_19_t['19'])\n",
    "lin_reg.score(X,data_19_t['19'])"
   ]
  }
 ],
 "metadata": {
  "kernelspec": {
   "display_name": "Python 3",
   "language": "python",
   "name": "python3"
  },
  "language_info": {
   "codemirror_mode": {
    "name": "ipython",
    "version": 3
   },
   "file_extension": ".py",
   "mimetype": "text/x-python",
   "name": "python",
   "nbconvert_exporter": "python",
   "pygments_lexer": "ipython3",
   "version": "3.8.3"
  }
 },
 "nbformat": 4,
 "nbformat_minor": 4
}
