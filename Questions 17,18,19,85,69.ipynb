{
 "cells": [
  {
   "cell_type": "code",
   "execution_count": 25,
   "metadata": {},
   "outputs": [],
   "source": [
    "import pandas as pd\n",
    "import matplotlib.pyplot as plt\n",
    "import requests\n",
    "import io\n",
    "import numpy as np\n",
    "\n",
    "def load_data(url):\n",
    "    url_content = requests.get(url).text\n",
    "\n",
    "\n",
    "\n",
    "    #with open()\n",
    "    data = pd.read_csv(url,encoding='utf-8')\n",
    "    return data\n",
    "#data.head()"
   ]
  },
  {
   "cell_type": "code",
   "execution_count": 3,
   "metadata": {},
   "outputs": [],
   "source": [
    "def clean_data(df):\n",
    "    df = df.replace('-1',np.NaN)\n",
    "    index = 0\n",
    "    for row in df['3']:\n",
    "        if row != 'United States of America':\n",
    "            df.drop(index=index,inplace=True)\n",
    "        index += 1\n",
    "    data_index = df.index\n",
    "\n",
    "    index = 0 \n",
    "    for row in df['5']:\n",
    "        if row == 1:\n",
    "            df.drop(index=data_index[index],inplace=True)\n",
    "        index += 1\n",
    "    return df"
   ]
  },
  {
   "cell_type": "code",
   "execution_count": 93,
   "metadata": {},
   "outputs": [],
   "source": [
    "def q_17(data):\n",
    "    comfort_sum = 0\n",
    "    comfort_count = 0\n",
    "    for row in data['19']:\n",
    "        if row == 'Yes':\n",
    "            comfort_sum += 100\n",
    "        elif row == 'Maybe':\n",
    "            comfort_sum += 50\n",
    "        elif row == 'No':\n",
    "            comfort_sum += 0\n",
    "        comfort_count  += 1\n",
    "    if comfort_count == 0:\n",
    "        avg_comfort = 0\n",
    "    else:\n",
    "        avg_comfort = comfort_sum/comfort_count\n",
    "    #print(avg_comfort)\n",
    "    comfort_coworkers = avg_comfort\n",
    "    return comfort_coworkers\n",
    "def pie_17(data):\n",
    "    yes = 0\n",
    "    maybe = 0\n",
    "    no = 0\n",
    "    for row in data['19']:\n",
    "        if row == 'Yes':\n",
    "            yes += 1\n",
    "        elif row == 'Maybe':\n",
    "            maybe += 1\n",
    "        elif row == 'No':\n",
    "            no += 1\n",
    "    return [yes,maybe,no]"
   ]
  },
  {
   "cell_type": "code",
   "execution_count": 92,
   "metadata": {},
   "outputs": [],
   "source": [
    "def q_16(data):\n",
    "    comfort_sum = 0\n",
    "    comfort_count = 0\n",
    "    for row in data['16']:\n",
    "        if row == 'Yes':\n",
    "            comfort_sum += 100\n",
    "        elif row == 'Maybe':\n",
    "            comfort_sum += 50\n",
    "        elif row == 'No':\n",
    "            comfort_sum += 0\n",
    "        comfort_count  += 1\n",
    "    if comfort_count == 0:\n",
    "        avg_comfort = 0\n",
    "    else:\n",
    "        avg_comfort = comfort_sum/comfort_count\n",
    "    \n",
    "    comfort_coworkers = avg_comfort\n",
    "    return comfort_coworkers\n",
    "def pie_16(data):\n",
    "    yes = 0\n",
    "    maybe = 0\n",
    "    no = 0\n",
    "    for row in data['16']:\n",
    "        if row == 'Yes':\n",
    "            yes += 1\n",
    "        elif row == 'Maybe':\n",
    "            maybe += 1\n",
    "        elif row == 'No':\n",
    "            no += 1\n",
    "    return [yes,maybe,no]"
   ]
  },
  {
   "cell_type": "code",
   "execution_count": 27,
   "metadata": {},
   "outputs": [],
   "source": [
    "def q_18(data):\n",
    "    comfort_sum = 0\n",
    "    comfort_count = 0\n",
    "    for row in data['18']:\n",
    "        if row == 'Yes':\n",
    "            comfort_sum += 100\n",
    "        elif row == 'Maybe':\n",
    "            comfort_sum += 50\n",
    "        elif row == 'No':\n",
    "            comfort_sum += 0\n",
    "        comfort_count  += 1\n",
    "    if comfort_count == 0:\n",
    "        avg_comfort = 0\n",
    "    else:\n",
    "        avg_comfort = comfort_sum/comfort_count\n",
    "    \n",
    "    comfort_coworkers = avg_comfort\n",
    "    return comfort_coworkers\n",
    "def pie_18(data):\n",
    "    yes = 0\n",
    "    maybe = 0\n",
    "    no = 0\n",
    "    for row in data['18']:\n",
    "        if row == 'Yes':\n",
    "            yes += 1\n",
    "        elif row == 'Maybe':\n",
    "            maybe += 1\n",
    "        elif row == 'No':\n",
    "            no += 1\n",
    "    return [yes,maybe,no]"
   ]
  },
  {
   "cell_type": "code",
   "execution_count": 108,
   "metadata": {},
   "outputs": [],
   "source": [
    "def q_56(data):\n",
    "    employer_mental_phys_sum = 0\n",
    "    employer_ment_phys_count = 0\n",
    "    for row in data['68']:\n",
    "        if row == 'Mental':\n",
    "            employer_ment_phys_sum += 50\n",
    "        elif row == 'Physical':\n",
    "            employer_ment_phys_sum += 0\n",
    "        elif row == 'Same level':\n",
    "            employer_ment_phys_sum += 100\n",
    "        employer_ment_phys_count += 1\n",
    "    if employer_ment_phys_count == 0:\n",
    "        avg_employer_ment_phys = 0\n",
    "    else:\n",
    "        avg_employer_ment_phys = employer_mental_phys_sum / employer_ment_phys_count\n",
    "    return avg_employer_ment_phys\n",
    "def pie_56(data):\n",
    "    mental = 0\n",
    "    physical = 0\n",
    "    same = 0\n",
    "    for row in data['68']:\n",
    "        if row == 'Mental':\n",
    "            mental += 1\n",
    "        elif row == 'Physical':\n",
    "            physical += 1\n",
    "        elif row == 'Same level':\n",
    "            same += 1\n",
    "    return [mental,physical,same]"
   ]
  },
  {
   "cell_type": "code",
   "execution_count": 98,
   "metadata": {},
   "outputs": [],
   "source": [
    "def q_72(data):\n",
    "    sum_ = 0\n",
    "    count = 0\n",
    "    for row in data['85']:\n",
    "        if row == 1:\n",
    "            sum_ += 0\n",
    "        elif row == 2:\n",
    "            sum_ += 25\n",
    "        elif row == 3:\n",
    "            sum_ += 50\n",
    "        elif row == 4:\n",
    "            sum_ += 75\n",
    "        elif row == 5:\n",
    "            sum_ += 100\n",
    "        count += 1\n",
    "    \n",
    "    if count == 0:\n",
    "        avg = 0\n",
    "    else:\n",
    "        avg = sum_ / count\n",
    "    return avg\n",
    "def pie_72(data):\n",
    "    one = 0\n",
    "    two = 0\n",
    "    three = 0\n",
    "    four = 0\n",
    "    five = 0\n",
    "    for row in data['18']:\n",
    "        if row == 1:\n",
    "            one += 1\n",
    "        elif row == 2:\n",
    "            two += 1\n",
    "        elif row == 3:\n",
    "            three += 1\n",
    "        elif row == 4:\n",
    "            four += 1\n",
    "        elif row == 5:\n",
    "            five += 1\n",
    "    return [one,two,three,four,five]"
   ]
  },
  {
   "cell_type": "code",
   "execution_count": 11,
   "metadata": {},
   "outputs": [],
   "source": [
    "url_16 = \"https://raw.githubusercontent.com/mich-matocha/data-therapy/main/data/QA_2016.T.csv\"\n",
    "url_17 = \"https://raw.githubusercontent.com/mich-matocha/data-therapy/main/data/QA_2017.T.csv\"\n",
    "url_18 = \"https://raw.githubusercontent.com/mich-matocha/data-therapy/main/data/QA_2018.T.csv\"\n",
    "url_19 = \"https://raw.githubusercontent.com/mich-matocha/data-therapy/main/data/QA_2019.T.csv\"\n",
    "\n",
    "data_16 = load_data(url_16)\n",
    "data_17 = load_data(url_17)\n",
    "data_18 = load_data(url_18)\n",
    "data_19 = load_data(url_19)\n",
    "\n",
    "data_16 = clean_data(data_16)\n",
    "data_17 = clean_data(data_17)\n",
    "data_18 = clean_data(data_18)\n",
    "data_19 = clean_data(data_19)"
   ]
  },
  {
   "cell_type": "code",
   "execution_count": 94,
   "metadata": {},
   "outputs": [
    {
     "name": "stdout",
     "output_type": "stream",
     "text": [
      "56.970699432892246\n",
      "58.14977973568282\n",
      "56.205673758865245\n",
      "56.25\n"
     ]
    },
    {
     "data": {
      "image/png": "[encoded data removed]",
      "text/plain": [
       "<Figure size 432x288 with 4 Axes>"
      ]
     },
     "metadata": {},
     "output_type": "display_data"
    }
   ],
   "source": [
    "print(q_17(data_16))\n",
    "print(q_17(data_17))\n",
    "print(q_17(data_18))\n",
    "print(q_17(data_19))\n",
    "\n",
    "q_17_list = []\n",
    "q_17_list.append(q_17(data_16))\n",
    "q_17_list.append(q_17(data_17))\n",
    "q_17_list.append(q_17(data_18))\n",
    "q_17_list.append(q_17(data_19))\n",
    "\n",
    "years = [2016,2017,2018,2019]\n",
    "plt.plot(years,q_17_list)\n",
    "\n",
    "pie_17_list16 = pie_17(data_16)\n",
    "pie_17_list17 = pie_17(data_17)\n",
    "pie_17_list18 = pie_17(data_18)\n",
    "pie_17_list19 = pie_17(data_19)\n",
    "answers = ['Yes','Maybe','No']\n",
    "# referenced https://stackoverflow.com/questions/42818361/how-to-make-two-plots-side-by-side-using-python\n",
    "plt.subplot(1,4,1)\n",
    "plt.pie(pie_17_list16,labels=answers)\n",
    "plt.title('2016')\n",
    "plt.subplot(1,4,2)\n",
    "plt.pie(pie_17_list17,labels=answers)\n",
    "plt.title('2017')\n",
    "plt.subplot(1,4,3)\n",
    "plt.pie(pie_17_list18,labels=answers)\n",
    "plt.title('2018')\n",
    "plt.subplot(1,4,4)\n",
    "plt.pie(pie_17_list19,labels=answers)\n",
    "plt.title('2019')\n",
    "plt.tight_layout()"
   ]
  },
  {
   "cell_type": "code",
   "execution_count": 96,
   "metadata": {},
   "outputs": [
    {
     "data": {
      "text/plain": [
       "Text(0.5, 1.0, 'Overall')"
      ]
     },
     "execution_count": 96,
     "metadata": {},
     "output_type": "execute_result"
    },
    {
     "data": {
      "image/png": "[encoded data removed]",
      "text/plain": [
       "<Figure size 432x288 with 1 Axes>"
      ]
     },
     "metadata": {
      "needs_background": "light"
     },
     "output_type": "display_data"
    }
   ],
   "source": [
    "plt.plot(years,q_17_list)\n",
    "plt.title('Overall')"
   ]
  },
  {
   "cell_type": "code",
   "execution_count": 87,
   "metadata": {},
   "outputs": [
    {
     "data": {
      "image/png": "[encoded data removed]",
      "text/plain": [
       "<Figure size 432x288 with 4 Axes>"
      ]
     },
     "metadata": {},
     "output_type": "display_data"
    }
   ],
   "source": [
    "#print(q_18(data_16))\n",
    "#print(q_18(data_17))\n",
    "#print(q_18(data_18))\n",
    "#print(q_18(data_19))\n",
    "import plotly.express as px\n",
    "\n",
    "\n",
    "q_18_list = []\n",
    "q_18_list.append(q_18(data_16))\n",
    "q_18_list.append(q_18(data_17))\n",
    "q_18_list.append(q_18(data_18))\n",
    "q_18_list.append(q_18(data_19))\n",
    "\n",
    "pie_18_list16 = pie_18(data_16)\n",
    "pie_18_list17 = pie_18(data_17)\n",
    "pie_18_list18 = pie_18(data_18)\n",
    "pie_18_list19 = pie_18(data_19)\n",
    "years = [2016,2017,2018,2019]\n",
    "\n",
    "plt.plot(years,q_18_list)\n",
    "answers = ['Yes','Maybe','No']\n",
    "# referenced https://stackoverflow.com/questions/42818361/how-to-make-two-plots-side-by-side-using-python\n",
    "plt.subplot(1,4,1)\n",
    "plt.pie(pie_18_list16,labels=answers)\n",
    "plt.title('2016')\n",
    "plt.subplot(1,4,2)\n",
    "plt.pie(pie_18_list17,labels=answers)\n",
    "plt.title('2017')\n",
    "plt.subplot(1,4,3)\n",
    "plt.pie(pie_18_list18,labels=answers)\n",
    "plt.title('2018')\n",
    "plt.subplot(1,4,4)\n",
    "plt.pie(pie_18_list19,labels=answers)\n",
    "plt.title('2019')\n",
    "plt.tight_layout()\n",
    "#df = px.data.tips()\n",
    "#fig1 = px.pie(df,color_discrete_sequence=px.colors.sequential.RdBu)\n",
    "#fig1.show()"
   ]
  },
  {
   "cell_type": "code",
   "execution_count": 95,
   "metadata": {},
   "outputs": [
    {
     "data": {
      "text/plain": [
       "Text(0.5, 1.0, 'Overall')"
      ]
     },
     "execution_count": 95,
     "metadata": {},
     "output_type": "execute_result"
    },
    {
     "data": {
      "image/png": "[encoded data removed]",
      "text/plain": [
       "<Figure size 432x288 with 1 Axes>"
      ]
     },
     "metadata": {
      "needs_background": "light"
     },
     "output_type": "display_data"
    }
   ],
   "source": [
    "plt.plot(years,q_18_list)\n",
    "plt.title('Overall')"
   ]
  },
  {
   "cell_type": "code",
   "execution_count": 109,
   "metadata": {},
   "outputs": [
    {
     "name": "stdout",
     "output_type": "stream",
     "text": [
      "0.0\n",
      "0.0\n",
      "0.0\n"
     ]
    },
    {
     "data": {
      "image/png": "[encoded data removed]",
      "text/plain": [
       "<Figure size 432x288 with 3 Axes>"
      ]
     },
     "metadata": {},
     "output_type": "display_data"
    }
   ],
   "source": [
    "\n",
    "print(q_56(data_17))\n",
    "print(q_56(data_18))\n",
    "print(q_56(data_19))\n",
    "\n",
    "q_56_list = []\n",
    "\n",
    "q_56_list.append(q_56(data_17))\n",
    "q_56_list.append(q_56(data_18))\n",
    "q_56_list.append(q_56(data_19))\n",
    "\n",
    "\n",
    "years = [2017,2018,2019]\n",
    "plt.plot(years,q_56_list)\n",
    "\n",
    "\n",
    "pie_56_list17 = pie_56(data_17)\n",
    "pie_56_list18 = pie_56(data_18)\n",
    "pie_56_list19 = pie_56(data_19)\n",
    "answers = ['Mental','Physical','Same level']\n",
    "# referenced https://stackoverflow.com/questions/42818361/how-to-make-two-plots-side-by-side-using-python\n",
    "\n",
    "plt.subplot(1,4,1)\n",
    "plt.pie(pie_56_list17,labels=answers)\n",
    "plt.title('2017')\n",
    "plt.subplot(1,4,2)\n",
    "plt.pie(pie_56_list18,labels=answers)\n",
    "plt.title('2018')\n",
    "plt.subplot(1,4,3)\n",
    "plt.pie(pie_56_list19,labels=answers)\n",
    "plt.title('2019')\n",
    "plt.tight_layout()"
   ]
  },
  {
   "cell_type": "code",
   "execution_count": 110,
   "metadata": {},
   "outputs": [
    {
     "data": {
      "text/plain": [
       "[<matplotlib.lines.Line2D at 0x1c2f02a8310>]"
      ]
     },
     "execution_count": 110,
     "metadata": {},
     "output_type": "execute_result"
    },
    {
     "data": {
      "image/png": "[encoded data removed]",
      "text/plain": [
       "<Figure size 432x288 with 1 Axes>"
      ]
     },
     "metadata": {
      "needs_background": "light"
     },
     "output_type": "display_data"
    }
   ],
   "source": [
    "plt.plot(years,q_56_list)"
   ]
  },
  {
   "cell_type": "code",
   "execution_count": 102,
   "metadata": {},
   "outputs": [
    {
     "name": "stdout",
     "output_type": "stream",
     "text": [
      "39.81277533039648\n",
      "39.45035460992908\n",
      "40.625\n"
     ]
    },
    {
     "data": {
      "image/png": "[encoded data removed]",
      "text/plain": [
       "<Figure size 432x288 with 3 Axes>"
      ]
     },
     "metadata": {},
     "output_type": "display_data"
    }
   ],
   "source": [
    "#print(q_72(data_16))\n",
    "print(q_72(data_17))\n",
    "print(q_72(data_18))\n",
    "print(q_72(data_19))\n",
    "\n",
    "q_72_list = []\n",
    "\n",
    "q_72_list.append(q_72(data_17))\n",
    "q_72_list.append(q_72(data_18))\n",
    "q_72_list.append(q_72(data_19))\n",
    "\n",
    "\n",
    "years = [2017,2018,2019]\n",
    "plt.plot(years,q_72_list)\n",
    "\n",
    "\n",
    "pie_72_list17 = pie_72(data_17)\n",
    "pie_72_list18 = pie_72(data_18)\n",
    "pie_72_list19 = pie_72(data_19)\n",
    "answers = [1,2,3,4,5]\n",
    "# referenced https://stackoverflow.com/questions/42818361/how-to-make-two-plots-side-by-side-using-python\n",
    "\n",
    "plt.subplot(1,4,1)\n",
    "plt.pie(pie_72_list17,labels=answers)\n",
    "plt.title('2017')\n",
    "plt.subplot(1,4,2)\n",
    "plt.pie(pie_72_list18,labels=answers)\n",
    "plt.title('2018')\n",
    "plt.subplot(1,4,3)\n",
    "plt.pie(pie_72_list19,labels=answers)\n",
    "plt.title('2019')\n",
    "plt.tight_layout()"
   ]
  },
  {
   "cell_type": "code",
   "execution_count": 103,
   "metadata": {},
   "outputs": [
    {
     "data": {
      "text/plain": [
       "Text(0.5, 1.0, 'Overall')"
      ]
     },
     "execution_count": 103,
     "metadata": {},
     "output_type": "execute_result"
    },
    {
     "data": {
      "image/png": "[encoded data removed]",
      "text/plain": [
       "<Figure size 432x288 with 1 Axes>"
      ]
     },
     "metadata": {
      "needs_background": "light"
     },
     "output_type": "display_data"
    }
   ],
   "source": [
    "plt.plot(years,q_72_list)\n",
    "plt.title('Overall')"
   ]
  },
  {
   "cell_type": "code",
   "execution_count": 107,
   "metadata": {
    "scrolled": true
   },
   "outputs": [
    {
     "data": {
      "image/png": "[encoded data removed]",
      "text/plain": [
       "<Figure size 432x288 with 4 Axes>"
      ]
     },
     "metadata": {},
     "output_type": "display_data"
    }
   ],
   "source": [
    "#print(q_16(data_16))\n",
    "#print(q_16(data_17))\n",
    "#print(q_16(data_18))\n",
    "#print(q_16(data_19))\n",
    "\n",
    "q_16_list = []\n",
    "\n",
    "q_16_list.append(q_16(data_16))\n",
    "q_16_list.append(q_16(data_17))\n",
    "q_16_list.append(q_16(data_18))\n",
    "q_16_list.append(q_16(data_19))\n",
    "\n",
    "\n",
    "years = [2016,2017,2018,2019]\n",
    "plt.plot(years,q_16_list)\n",
    "\n",
    "pie_16_list16 = pie_16(data_16)\n",
    "pie_16_list17 = pie_16(data_17)\n",
    "pie_16_list18 = pie_16(data_18)\n",
    "pie_16_list19 = pie_16(data_19)\n",
    "answers = ['Yes','Maybe','No']\n",
    "# referenced https://stackoverflow.com/questions/42818361/how-to-make-two-plots-side-by-side-using-python\n",
    "plt.subplot(1,4,1)\n",
    "plt.pie(pie_16_list16,labels=answers)\n",
    "plt.title('2016')\n",
    "plt.subplot(1,4,2)\n",
    "plt.pie(pie_16_list17,labels=answers)\n",
    "plt.title('2017')\n",
    "plt.subplot(1,4,3)\n",
    "plt.pie(pie_16_list18,labels=answers)\n",
    "plt.title('2018')\n",
    "plt.subplot(1,4,4)\n",
    "plt.pie(pie_16_list19,labels=answers)\n",
    "plt.title('2019')\n",
    "plt.tight_layout()"
   ]
  },
  {
   "cell_type": "code",
   "execution_count": 106,
   "metadata": {},
   "outputs": [
    {
     "data": {
      "text/plain": [
       "Text(0.5, 1.0, 'Overall')"
      ]
     },
     "execution_count": 106,
     "metadata": {},
     "output_type": "execute_result"
    },
    {
     "data": {
      "image/png": "[encoded data removed]",
      "text/plain": [
       "<Figure size 432x288 with 1 Axes>"
      ]
     },
     "metadata": {
      "needs_background": "light"
     },
     "output_type": "display_data"
    }
   ],
   "source": [
    "plt.plot(years,q_16_list)\n",
    "\n",
    "plt.title('Overall')"
   ]
  }
 ],
 "metadata": {
  "kernelspec": {
   "display_name": "Python 3",
   "language": "python",
   "name": "python3"
  },
  "language_info": {
   "codemirror_mode": {
    "name": "ipython",
    "version": 3
   },
   "file_extension": ".py",
   "mimetype": "text/x-python",
   "name": "python",
   "nbconvert_exporter": "python",
   "pygments_lexer": "ipython3",
   "version": "3.8.3"
  }
 },
 "nbformat": 4,
 "nbformat_minor": 4
}
