{
 "cells": [
  {
   "cell_type": "markdown",
   "metadata": {},
   "source": [
    "## Helper Functions"
   ]
  },
  {
   "cell_type": "code",
   "execution_count": 1,
   "metadata": {},
   "outputs": [],
   "source": [
    "import pandas as pd\n",
    "import numpy as np\n",
    "\n",
    "def loadData(filename):\n",
    "    df = pd.read_csv(filename)\n",
    "    print('\\nShape:')\n",
    "    print(df.shape)\n",
    "    return df\n",
    "\n",
    "def clean(df, qID, cleanFn, optionArray):\n",
    "    #removing non US entries\n",
    "    index = 0\n",
    "    for row in df['3']:\n",
    "        if row != 'United States of America':\n",
    "            df.drop(index=index,inplace=True)\n",
    "        index += 1\n",
    "        \n",
    "    data_index = df.index\n",
    "            \n",
    "    #removing self employed\n",
    "    index = 0\n",
    "    for row in df['5']:\n",
    "        if row == 1:\n",
    "            df.drop(index=data_index[index],inplace=True)\n",
    "        index += 1\n",
    "            \n",
    "    df[qID] = df[qID].apply(cleanFn, args=(optionArray,))\n",
    "\n",
    "def generalCleaning(inp, optionArray):\n",
    "    for i in range(0, len(optionArray)):\n",
    "        if inp == optionArray[i]:\n",
    "            if inp == \"-1\":\n",
    "                return int(inp)\n",
    "            return int(len(optionArray) - i - 2)\n",
    "    else:\n",
    "        return inp"
   ]
  },
  {
   "cell_type": "markdown",
   "metadata": {},
   "source": [
    "## Let's Translate This Data"
   ]
  },
  {
   "cell_type": "code",
   "execution_count": 2,
   "metadata": {},
   "outputs": [
    {
     "name": "stdout",
     "output_type": "stream",
     "text": [
      "\n",
      "Shape:\n",
      "(4760, 61)\n",
      "\n",
      "Shape:\n",
      "(756, 77)\n",
      "\n",
      "Shape:\n",
      "(417, 77)\n",
      "\n",
      "Shape:\n",
      "(352, 77)\n"
     ]
    }
   ],
   "source": [
    "df2016 = loadData('data/QA_2016.T.csv')\n",
    "df2017 = loadData('data/QA_2017.T.csv')\n",
    "df2018 = loadData('data/QA_2018.T.csv')\n",
    "df2019 = loadData('data/QA_2019.T.csv')"
   ]
  },
  {
   "cell_type": "code",
   "execution_count": 3,
   "metadata": {},
   "outputs": [],
   "source": [
    "frames = [df2017, df2018, df2019]\n",
    "\n",
    "# THIS IS WHERE YOU CAN FIND THE OUTPUTS OF THIS PROGRAM:\n",
    "filenames = ['data/num2017', 'data/num2018', 'data/num2019']"
   ]
  },
  {
   "cell_type": "code",
   "execution_count": 6,
   "metadata": {},
   "outputs": [],
   "source": [
    "ind = 0\n",
    "for x in frames:\n",
    "    #print(x['104'].unique())\n",
    "    clean(x, \"10\", generalCleaning, ['Yes', \"I don't know\", 'No', 'Not eligible for coverage / NA', '-1'])\n",
    "    clean(x, \"17\", generalCleaning, ['Very easy', 'Somewhat easy', 'Neither easy nor difficult', \"I don't know\", 'Somewhat difficult', 'Difficult', '-1'])\n",
    "    clean(x, \"18\", generalCleaning, ['Yes', 'Maybe', 'No', '-1'])\n",
    "    clean(x, \"19\", generalCleaning, ['Yes', 'Maybe', 'No', '-1'])\n",
    "    clean(x, \"69\", generalCleaning, ['Mental health', 'Same level of comfort for each', 'Physical health', '-1'])\n",
    "    #print(x['104'].unique())\n",
    "    \n",
    "    #after cleaning, output all to csv\n",
    "    x.to_csv(filenames[ind])\n",
    "    ind += 1"
   ]
  },
  {
   "cell_type": "markdown",
   "metadata": {},
   "source": [
    "For reference: the value associated with each value does not include -1 in the counts.\n",
    "All optionArrays must be input in order from positive to negative answers.\n",
    "For example: ['Yes', 'I don't know', 'No', '-1'] would be assigned values [2, 1, 0 -1]."
   ]
  },
  {
   "cell_type": "code",
   "execution_count": null,
   "metadata": {},
   "outputs": [],
   "source": []
  }
 ],
 "metadata": {
  "kernelspec": {
   "display_name": "Python 3",
   "language": "python",
   "name": "python3"
  },
  "language_info": {
   "codemirror_mode": {
    "name": "ipython",
    "version": 3
   },
   "file_extension": ".py",
   "mimetype": "text/x-python",
   "name": "python",
   "nbconvert_exporter": "python",
   "pygments_lexer": "ipython3",
   "version": "3.7.4"
  }
 },
 "nbformat": 4,
 "nbformat_minor": 2
}
