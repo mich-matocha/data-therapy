{
 "cells": [
  {
   "cell_type": "markdown",
   "metadata": {},
   "source": [
    "# Text Cleaning"
   ]
  },
  {
   "cell_type": "markdown",
   "metadata": {},
   "source": [
    "### Helper Functions"
   ]
  },
  {
   "cell_type": "markdown",
   "metadata": {},
   "source": [
    "I did a good bit of consolidation into categories here:\n",
    "\n",
    "* **Mood Disorder** includes Depression and Seasonal Affective Disorder  \n",
    "* **Pervasive Developmental Disorder** includes Autism and Aspergers  \n",
    "* **Dissociative Disorder** includes Depersonalization Disorder \n",
    "* **Personality Disorder** includes Schizotypal Personality Disorder"
   ]
  },
  {
   "cell_type": "code",
   "execution_count": 165,
   "metadata": {},
   "outputs": [],
   "source": [
    "import re\n",
    "import pandas as pd\n",
    "\n",
    "def cleanDisorders(disorder):\n",
    "    disorder = re.sub(\"[\\(\\[].*?[\\)\\]]\", \"\", str(disorder))\n",
    "    disorder = disorder.rstrip()\n",
    "    if disorder == 'Attention Deficit Hyperactivity Disorder':\n",
    "        return 'ADHD'\n",
    "    elif disorder == 'Post-traumatic Stress Disorder':\n",
    "        return \"PTSD\"\n",
    "    elif disorder == 'Obsessive-Compulsive Disorder':\n",
    "        return \"OCD\"\n",
    "    elif disorder == 'Anxiety Disorder':\n",
    "        return \"Anxiety\"\n",
    "    elif disorder == 'Autism' or disorder.lower() == 'autism spectrum disorder' or disorder == 'Asperges' or disorder == 'PDD-NOS':\n",
    "        return 'Pervasive Developmental Disorder'\n",
    "    elif disorder == 'Depression' or disorder == 'Seasonal Affective Disorder':\n",
    "        return \"Mood Disorder\"\n",
    "    elif disorder == 'Addictive Disorder' or disorder == 'Substance Use Disorder':\n",
    "        return \"Addiction or Substance Use\"\n",
    "    elif disorder.lower() == 'depersonalization disorder':\n",
    "        return \"Dissociative Disorder\"\n",
    "    elif disorder == 'Schizotypal Personality Disorder':\n",
    "        return \"Personality Disorder\"\n",
    "    else:\n",
    "        return disorder\n",
    "    \n",
    "def loadData(filename):\n",
    "    df = pd.read_csv(filename)\n",
    "    print('\\nShape:')\n",
    "    print(df.shape)\n",
    "    return df\n",
    "\n",
    "def cleanAndGetCounts(df, qID, cleanFn):\n",
    "    df[qID] = df[qID].apply(cleanFn)\n",
    "    valCounts = df[qID].value_counts()\n",
    "    valCounts = valCounts.iloc[1:]\n",
    "    print(valCounts)\n",
    "    return valCounts"
   ]
  },
  {
   "cell_type": "markdown",
   "metadata": {},
   "source": [
    "### 2016 Diagnosed Mental Health Conditions"
   ]
  },
  {
   "cell_type": "code",
   "execution_count": 166,
   "metadata": {},
   "outputs": [
    {
     "name": "stdout",
     "output_type": "stream",
     "text": [
      "\n",
      "Shape:\n",
      "(4760, 61)\n",
      "Mood Disorder                                                                                               775\n",
      "Anxiety                                                                                                     648\n",
      "ADHD                                                                                                        224\n",
      "Addiction or Substance Use                                                                                  163\n",
      "PTSD                                                                                                        141\n",
      "Stress Response Syndromes                                                                                   104\n",
      "Personality Disorder                                                                                         91\n",
      "OCD                                                                                                          68\n",
      "Eating Disorder                                                                                              43\n",
      "Dissociative Disorder                                                                                        36\n",
      "Pervasive Developmental Disorder                                                                             22\n",
      "Psychotic Disorder                                                                                            9\n",
      "Combination of physical impairment  with a possibly mental one                                                5\n",
      "Intimate Disorder                                                                                             4\n",
      "Gender Dysphoria                                                                                              4\n",
      "Transgender                                                                                                   2\n",
      "ADD                                                                                                           1\n",
      "I haven't been formally diagnosed, so I felt uncomfortable answering, but Social Anxiety and Depression.      1\n",
      "Burn out                                                                                                      1\n",
      "Sleeping Disorder                                                                                             1\n",
      "Sexual addiction                                                                                              1\n",
      "Traumatic Brain Injury                                                                                        1\n",
      "Name: 115, dtype: int64\n"
     ]
    }
   ],
   "source": [
    "df2016 = loadData('data/QA_2016.T.csv')\n",
    "valCounts = cleanAndGetCounts(df2016, '115', cleanDisorders)"
   ]
  },
  {
   "cell_type": "code",
   "execution_count": 167,
   "metadata": {},
   "outputs": [
    {
     "data": {
      "text/plain": [
       "<matplotlib.axes._subplots.AxesSubplot at 0x7fad37f5f810>"
      ]
     },
     "execution_count": 167,
     "metadata": {},
     "output_type": "execute_result"
    },
    {
     "data": {
      "image/png": "[encoded data removed]",
      "text/plain": [
       "<Figure size 432x288 with 1 Axes>"
      ]
     },
     "metadata": {
      "needs_background": "light"
     },
     "output_type": "display_data"
    }
   ],
   "source": [
    "valCounts.sort_values(ascending=False).head(12).plot(kind='bar')"
   ]
  },
  {
   "cell_type": "markdown",
   "metadata": {},
   "source": [
    "### 2016 Undiagnosed Mental Health Conditions"
   ]
  },
  {
   "cell_type": "code",
   "execution_count": 168,
   "metadata": {},
   "outputs": [
    {
     "name": "stdout",
     "output_type": "stream",
     "text": [
      "\n",
      "Shape:\n",
      "(4760, 61)\n",
      "Mood Disorder                       442\n",
      "Anxiety                             389\n",
      "ADHD                                132\n",
      "Stress Response Syndromes           100\n",
      "Personality Disorder                 90\n",
      "Addiction or Substance Use           82\n",
      "PTSD                                 56\n",
      "OCD                                  52\n",
      "Dissociative Disorder                24\n",
      "Eating Disorder                      19\n",
      "Psychotic Disorder                   18\n",
      "Gender Identity Disorder              4\n",
      "Asperger Syndrome                     3\n",
      "Burnout                               3\n",
      "Depersonalisation                     2\n",
      "post-partum / anxiety                 2\n",
      "We're all hurt, right?!               1\n",
      "Tinnitus                              1\n",
      "Pervasive Developmental Disorder      1\n",
      "Suicidal Ideation                     1\n",
      "Asperger's                            1\n",
      "Name: 116, dtype: int64\n"
     ]
    }
   ],
   "source": [
    "df16 = loadData('data/QA_2016.T.csv')\n",
    "valCts = cleanAndGetCounts(df16, '116', cleanDisorders)"
   ]
  },
  {
   "cell_type": "code",
   "execution_count": 169,
   "metadata": {},
   "outputs": [
    {
     "data": {
      "text/plain": [
       "<matplotlib.axes._subplots.AxesSubplot at 0x7fad3800ba10>"
      ]
     },
     "execution_count": 169,
     "metadata": {},
     "output_type": "execute_result"
    },
    {
     "data": {
      "image/png": "[encoded data removed]",
      "text/plain": [
       "<Figure size 432x288 with 1 Axes>"
      ]
     },
     "metadata": {
      "needs_background": "light"
     },
     "output_type": "display_data"
    }
   ],
   "source": [
    "valCts.sort_values(ascending=False).head(11).plot(kind='bar')"
   ]
  },
  {
   "cell_type": "code",
   "execution_count": null,
   "metadata": {},
   "outputs": [],
   "source": []
  },
  {
   "cell_type": "code",
   "execution_count": null,
   "metadata": {},
   "outputs": [],
   "source": []
  },
  {
   "cell_type": "code",
   "execution_count": null,
   "metadata": {},
   "outputs": [],
   "source": []
  }
 ],
 "metadata": {
  "kernelspec": {
   "display_name": "Python 3",
   "language": "python",
   "name": "python3"
  },
  "language_info": {
   "codemirror_mode": {
    "name": "ipython",
    "version": 3
   },
   "file_extension": ".py",
   "mimetype": "text/x-python",
   "name": "python",
   "nbconvert_exporter": "python",
   "pygments_lexer": "ipython3",
   "version": "3.7.4"
  }
 },
 "nbformat": 4,
 "nbformat_minor": 2
}
