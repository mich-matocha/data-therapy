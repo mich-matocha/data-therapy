{
 "cells": [
  {
   "cell_type": "code",
   "execution_count": 25,
   "metadata": {},
   "outputs": [],
   "source": [
    "import pandas as pd\n",
    "import matplotlib.pyplot as plt\n",
    "import requests\n",
    "import io\n",
    "import numpy as np\n",
    "\n",
    "def load_data(url):\n",
    "    url_content = requests.get(url).text\n",
    "\n",
    "\n",
    "\n",
    "    #with open()\n",
    "    data = pd.read_csv(url,encoding='utf-8')\n",
    "    return data\n",
    "#data.head()"
   ]
  },
  {
   "cell_type": "code",
   "execution_count": 3,
   "metadata": {},
   "outputs": [],
   "source": [
    "def clean_data(df):\n",
    "    df = df.replace('-1',np.NaN)\n",
    "    index = 0\n",
    "    for row in df['3']:\n",
    "        if row != 'United States of America':\n",
    "            df.drop(index=index,inplace=True)\n",
    "        index += 1\n",
    "    data_index = df.index\n",
    "\n",
    "    index = 0 \n",
    "    for row in df['5']:\n",
    "        if row == 1:\n",
    "            df.drop(index=data_index[index],inplace=True)\n",
    "        index += 1\n",
    "    return df"
   ]
  },
  {
   "cell_type": "code",
   "execution_count": 64,
   "metadata": {},
   "outputs": [],
   "source": [
    "def q_17(data):\n",
    "    comfort_sum = 0\n",
    "    comfort_count = 0\n",
    "    for row in data['19']:\n",
    "        if row == 'Yes':\n",
    "            comfort_sum += 100\n",
    "        elif row == 'Maybe':\n",
    "            comfort_sum += 50\n",
    "        elif row == 'No':\n",
    "            comfort_sum += 0\n",
    "        comfort_count  += 1\n",
    "    if comfort_count == 0:\n",
    "        avg_comfort = 0\n",
    "    else:\n",
    "        avg_comfort = comfort_sum/comfort_count\n",
    "    #print(avg_comfort)\n",
    "    comfort_coworkers = avg_comfort\n",
    "    return comfort_coworkers"
   ]
  },
  {
   "cell_type": "code",
   "execution_count": 58,
   "metadata": {},
   "outputs": [],
   "source": [
    "def q_16(data):\n",
    "    comfort_sum = 0\n",
    "    comfort_count = 0\n",
    "    for row in data['16']:\n",
    "        if row == 'Yes':\n",
    "            comfort_sum += 100\n",
    "        elif row == 'Maybe':\n",
    "            comfort_sum += 50\n",
    "        elif row == 'No':\n",
    "            comfort_sum += 0\n",
    "        comfort_count  += 1\n",
    "    if comfort_count == 0:\n",
    "        avg_comfort = 0\n",
    "    else:\n",
    "        avg_comfort = comfort_sum/comfort_count\n",
    "    \n",
    "    comfort_coworkers = avg_comfort\n",
    "    return comfort_coworkers"
   ]
  },
  {
   "cell_type": "code",
   "execution_count": 27,
   "metadata": {},
   "outputs": [],
   "source": [
    "def q_18(data):\n",
    "    comfort_sum = 0\n",
    "    comfort_count = 0\n",
    "    for row in data['18']:\n",
    "        if row == 'Yes':\n",
    "            comfort_sum += 100\n",
    "        elif row == 'Maybe':\n",
    "            comfort_sum += 50\n",
    "        elif row == 'No':\n",
    "            comfort_sum += 0\n",
    "        comfort_count  += 1\n",
    "    if comfort_count == 0:\n",
    "        avg_comfort = 0\n",
    "    else:\n",
    "        avg_comfort = comfort_sum/comfort_count\n",
    "    \n",
    "    comfort_coworkers = avg_comfort\n",
    "    return comfort_coworkers\n",
    "def pie_18(data):\n",
    "    yes = 0\n",
    "    maybe = 0\n",
    "    no = 0\n",
    "    for row in data['18']:\n",
    "        if row == 'Yes':\n",
    "            yes += 1\n",
    "        elif row == 'Maybe':\n",
    "            maybe += 1\n",
    "        elif row == 'No':\n",
    "            no += 1\n",
    "    return [yes,maybe,no]"
   ]
  },
  {
   "cell_type": "code",
   "execution_count": 55,
   "metadata": {},
   "outputs": [],
   "source": [
    "def q_56(data):\n",
    "    employer_mental_phys_sum = 0\n",
    "    employer_ment_phys_count = 0\n",
    "    for row in data['69']:\n",
    "        if row == 'Mental':\n",
    "            employer_ment_phys_sum += 50\n",
    "        elif row == 'Physical':\n",
    "            employer_ment_phys_sum += 0\n",
    "        elif row == 'Same level':\n",
    "            employer_ment_phys_sum += 100\n",
    "        employer_ment_phys_count += 1\n",
    "    if employer_ment_phys_count == 0:\n",
    "        avg_employer_ment_phys = 0\n",
    "    else:\n",
    "        avg_employer_ment_phys = employer_mental_phys_sum / employer_ment_phys_count\n",
    "    return avg_employer_ment_phys"
   ]
  },
  {
   "cell_type": "code",
   "execution_count": 51,
   "metadata": {},
   "outputs": [],
   "source": [
    "def q_72(data):\n",
    "    sum_ = 0\n",
    "    count = 0\n",
    "    for row in data['85']:\n",
    "        if row == 1:\n",
    "            sum_ += 0\n",
    "        elif row == 2:\n",
    "            sum_ += 25\n",
    "        elif row == 3:\n",
    "            sum_ += 50\n",
    "        elif row == 4:\n",
    "            sum_ += 75\n",
    "        elif row == 5:\n",
    "            sum_ += 100\n",
    "        count += 1\n",
    "    \n",
    "    if count == 0:\n",
    "        avg = 0\n",
    "    else:\n",
    "        avg = sum_ / count\n",
    "    return avg"
   ]
  },
  {
   "cell_type": "code",
   "execution_count": 11,
   "metadata": {},
   "outputs": [],
   "source": [
    "url_16 = \"https://raw.githubusercontent.com/mich-matocha/data-therapy/main/data/QA_2016.T.csv\"\n",
    "url_17 = \"https://raw.githubusercontent.com/mich-matocha/data-therapy/main/data/QA_2017.T.csv\"\n",
    "url_18 = \"https://raw.githubusercontent.com/mich-matocha/data-therapy/main/data/QA_2018.T.csv\"\n",
    "url_19 = \"https://raw.githubusercontent.com/mich-matocha/data-therapy/main/data/QA_2019.T.csv\"\n",
    "\n",
    "data_16 = load_data(url_16)\n",
    "data_17 = load_data(url_17)\n",
    "data_18 = load_data(url_18)\n",
    "data_19 = load_data(url_19)\n",
    "\n",
    "data_16 = clean_data(data_16)\n",
    "data_17 = clean_data(data_17)\n",
    "data_18 = clean_data(data_18)\n",
    "data_19 = clean_data(data_19)"
   ]
  },
  {
   "cell_type": "code",
   "execution_count": 66,
   "metadata": {},
   "outputs": [
    {
     "name": "stdout",
     "output_type": "stream",
     "text": [
      "56.970699432892246\n",
      "58.14977973568282\n",
      "56.205673758865245\n",
      "56.25\n"
     ]
    },
    {
     "data": {
      "text/plain": [
       "[<matplotlib.lines.Line2D at 0x1c2eb00d910>]"
      ]
     },
     "execution_count": 66,
     "metadata": {},
     "output_type": "execute_result"
    },
    {
     "data": {
      "image/png": "[encoded data removed]",
      "text/plain": [
       "<Figure size 432x288 with 1 Axes>"
      ]
     },
     "metadata": {
      "needs_background": "light"
     },
     "output_type": "display_data"
    }
   ],
   "source": [
    "print(q_17(data_16))\n",
    "print(q_17(data_17))\n",
    "print(q_17(data_18))\n",
    "print(q_17(data_19))\n",
    "\n",
    "q_17_list = []\n",
    "q_17_list.append(q_17(data_16))\n",
    "q_17_list.append(q_17(data_17))\n",
    "q_17_list.append(q_17(data_18))\n",
    "q_17_list.append(q_17(data_19))\n",
    "\n",
    "years = [2016,2017,2018,2019]\n",
    "plt.plot(years,q_17_list)"
   ]
  },
  {
   "cell_type": "code",
   "execution_count": 63,
   "metadata": {},
   "outputs": [
    {
     "name": "stdout",
     "output_type": "stream",
     "text": [
      "43.95085066162571\n",
      "53.74449339207048\n",
      "54.07801418439716\n",
      "52.98913043478261\n"
     ]
    },
    {
     "data": {
      "text/plain": [
       "[<matplotlib.lines.Line2D at 0x1c2eafb4e50>]"
      ]
     },
     "execution_count": 63,
     "metadata": {},
     "output_type": "execute_result"
    },
    {
     "data": {
      "image/png": "[encoded data removed]",
      "text/plain": [
       "<Figure size 432x288 with 1 Axes>"
      ]
     },
     "metadata": {
      "needs_background": "light"
     },
     "output_type": "display_data"
    }
   ],
   "source": [
    "print(q_18(data_16))\n",
    "print(q_18(data_17))\n",
    "print(q_18(data_18))\n",
    "print(q_18(data_19))\n",
    "q_18_list = []\n",
    "q_18_list.append(q_18(data_16))\n",
    "q_18_list.append(q_18(data_17))\n",
    "q_18_list.append(q_18(data_18))\n",
    "q_18_list.append(q_18(data_19))\n",
    "\n",
    "pie_18_list = pie_18(data_16)\n",
    "years = [2016,2017,2018,2019]\n",
    "plt.plot(years,q_18_list)\n",
    "#answers = ['Yes','Maybe','No']\n",
    "#plt.pie(data_16['18'],labels=answers)"
   ]
  },
  {
   "cell_type": "code",
   "execution_count": 57,
   "metadata": {},
   "outputs": [
    {
     "name": "stdout",
     "output_type": "stream",
     "text": [
      "0.0\n",
      "0.0\n",
      "0.0\n"
     ]
    }
   ],
   "source": [
    "\n",
    "print(q_56(data_17))\n",
    "print(q_56(data_18))\n",
    "print(q_56(data_19))"
   ]
  },
  {
   "cell_type": "code",
   "execution_count": 54,
   "metadata": {},
   "outputs": [
    {
     "name": "stdout",
     "output_type": "stream",
     "text": [
      "39.81277533039648\n",
      "39.45035460992908\n",
      "40.625\n"
     ]
    },
    {
     "data": {
      "text/plain": [
       "[<matplotlib.lines.Line2D at 0x1c2ead6c9d0>]"
      ]
     },
     "execution_count": 54,
     "metadata": {},
     "output_type": "execute_result"
    },
    {
     "data": {
      "image/png": "[encoded data removed]",
      "text/plain": [
       "<Figure size 432x288 with 1 Axes>"
      ]
     },
     "metadata": {
      "needs_background": "light"
     },
     "output_type": "display_data"
    }
   ],
   "source": [
    "#print(q_72(data_16))\n",
    "print(q_72(data_17))\n",
    "print(q_72(data_18))\n",
    "print(q_72(data_19))\n",
    "\n",
    "q_72_list = []\n",
    "\n",
    "q_72_list.append(q_72(data_17))\n",
    "q_72_list.append(q_72(data_18))\n",
    "q_72_list.append(q_72(data_19))\n",
    "\n",
    "\n",
    "years = [2017,2018,2019]\n",
    "plt.plot(years,q_72_list)\n"
   ]
  },
  {
   "cell_type": "code",
   "execution_count": 62,
   "metadata": {},
   "outputs": [
    {
     "name": "stdout",
     "output_type": "stream",
     "text": [
      "27.410207939508506\n",
      "32.819383259911895\n",
      "36.52482269503546\n",
      "38.58695652173913\n"
     ]
    },
    {
     "data": {
      "text/plain": [
       "[<matplotlib.lines.Line2D at 0x1c2eaf6b130>]"
      ]
     },
     "execution_count": 62,
     "metadata": {},
     "output_type": "execute_result"
    },
    {
     "data": {
      "image/png": "[encoded data removed]",
      "text/plain": [
       "<Figure size 432x288 with 1 Axes>"
      ]
     },
     "metadata": {
      "needs_background": "light"
     },
     "output_type": "display_data"
    }
   ],
   "source": [
    "print(q_16(data_16))\n",
    "print(q_16(data_17))\n",
    "print(q_16(data_18))\n",
    "print(q_16(data_19))\n",
    "\n",
    "q_16_list = []\n",
    "\n",
    "q_16_list.append(q_16(data_16))\n",
    "q_16_list.append(q_16(data_17))\n",
    "q_16_list.append(q_16(data_18))\n",
    "q_16_list.append(q_16(data_19))\n",
    "\n",
    "\n",
    "years = [2016,2017,2018,2019]\n",
    "plt.plot(years,q_16_list)\n"
   ]
  }
 ],
 "metadata": {
  "kernelspec": {
   "display_name": "Python 3",
   "language": "python",
   "name": "python3"
  },
  "language_info": {
   "codemirror_mode": {
    "name": "ipython",
    "version": 3
   },
   "file_extension": ".py",
   "mimetype": "text/x-python",
   "name": "python",
   "nbconvert_exporter": "python",
   "pygments_lexer": "ipython3",
   "version": "3.8.3"
  }
 },
 "nbformat": 4,
 "nbformat_minor": 4
}
